{
 "cells": [
  {
   "cell_type": "markdown",
   "id": "0c9cd19e-14f5-414a-9e95-4d0544ebb23a",
   "metadata": {
    "tags": []
   },
   "source": [
    "# Petermann 3D Basin Model\n",
    "\n",
    "Use icepack diagnostic/prognostic solve and hybrid model features to create a steady-state Petermann 3D model\n",
    "- Takes friction coefficient value from PetermannBasin_Friction \n",
    "- Takes temperature field from PetermannBasin_HeatTransport"
   ]
  },
  {
   "cell_type": "markdown",
   "id": "31e2e7d9-7014-48d9-be6a-1458d8d5c4a7",
   "metadata": {},
   "source": [
    "## Setup"
   ]
  },
  {
   "cell_type": "code",
   "execution_count": null,
   "id": "21eddf96-da44-4290-82be-f4d53a1b077b",
   "metadata": {},
   "outputs": [],
   "source": [
    "import sys \n",
    "import glob\n",
    "import os\n",
    "\n",
    "import matplotlib.pyplot as plt\n",
    "import numpy as np\n",
    "\n",
    "import rioxarray as rxr\n",
    "import xarray as xr\n",
    "import rasterio\n",
    "\n",
    "import geojson\n",
    "\n",
    "import firedrake\n",
    "import icepack\n",
    "import icepack.plot"
   ]
  },
  {
   "cell_type": "markdown",
   "id": "96801e4d-f22e-4770-b330-685219a47e9d",
   "metadata": {
    "tags": []
   },
   "source": [
    "### Mesh"
   ]
  },
  {
   "cell_type": "code",
   "execution_count": null,
   "id": "a5ec0afc-0f9a-4ec2-b28a-d00f26db69ab",
   "metadata": {},
   "outputs": [],
   "source": [
    "outline_fn = 'petermann_streamlines_evenspace_full.geojson'\n",
    "fn=outline_fn.split('.')[0]\n",
    "\n",
    "with open(outline_fn, 'r') as outline_file:\n",
    "    outline = geojson.load(outline_file)"
   ]
  },
  {
   "cell_type": "code",
   "execution_count": null,
   "id": "84a14252-32b1-4bc9-ab93-e2ca8bfa2dcc",
   "metadata": {},
   "outputs": [],
   "source": [
    "if os.path.isfile(fn+'.msh'):\n",
    "    pass\n",
    "else:\n",
    "    geometry = icepack.meshing.collection_to_geo(outline)\n",
    "\n",
    "    with open('petermann_streamline_evenspace_full.geo', 'w') as geo_file:\n",
    "        geo_file.write(geometry.get_code())\n",
    "        \n",
    "    !gmsh -2 -format msh2 -v 2 -o petermann_streamline_evenspace_full.msh petermann_streamline_evenspace_full.geo;"
   ]
  },
  {
   "cell_type": "code",
   "execution_count": null,
   "id": "98539550-b99c-4198-82d1-6888c0498009",
   "metadata": {},
   "outputs": [],
   "source": [
    "mesh2d = firedrake.Mesh(fn+'.msh')\n",
    "mesh = firedrake.ExtrudedMesh(mesh2d, layers=1)"
   ]
  },
  {
   "cell_type": "markdown",
   "id": "d1602b8b-9e44-45f9-86c0-9d12d36d3efe",
   "metadata": {
    "tags": []
   },
   "source": [
    "### Load/Interpolate Raster Data"
   ]
  },
  {
   "cell_type": "markdown",
   "id": "fd02b31b-50bc-4a51-8d51-f683616ce29c",
   "metadata": {},
   "source": [
    "#### Reading Data\n",
    "Here, you should define root_ddir as the directory containing the BedMachine, MEaSUREs, hillshade, and climate forcing files\n",
    "All files except BedMachine can be found [here](https://drive.google.com/drive/folders/1vSetbOF5Iy26ETMAF_-VXlrqotyp_3EO?usp=sharing).\n",
    "BedMachine and other file sources can be found here:\n",
    "- [BedMachine](https://nsidc.org/data/idbmg4/versions/5)\n",
    "- [MEaSUREs](https://nsidc.org/grimp)\n",
    "- [Martos Geothermal heat flux](https://doi.pangaea.de/10.1594/PANGAEA.892973?format=html#download)\n",
    "- [RACMO2 Surface Temperature/Surface Mass Balance](https://doi.org/10.5194/tc-10-2361-2016) (Need to email author Brice Noel for dataset)\n",
    "- [Hillshade](https://drive.google.com/drive/folders/1vSetbOF5Iy26ETMAF_-VXlrqotyp_3EO?usp=sharing) (creator is Nicholas Holchuh)\n"
   ]
  },
  {
   "cell_type": "code",
   "execution_count": null,
   "id": "7439a6a2-caca-4bed-bce4-5c7cfa304267",
   "metadata": {},
   "outputs": [],
   "source": [
    "### Reading Data\n",
    "### Here, you should define root_ddir as the directory containing the BedMachine, MEaSUREs, hillshade, and climate forcing files\n",
    "\n",
    "root_ddir = '/mnt/data01/Data/'\n",
    "\n",
    "velocity_fn = glob.glob(root_ddir+'*vel*.nc')\n",
    "ice_info_fn = glob.glob(root_ddir+'*BedMachine*.nc')\n",
    "hillshade_fn = glob.glob(root_ddir+'*Hillshade*.nc') \n",
    "geothermal_fn = glob.glob(root_ddir+'*Martos*.nc')\n",
    "racmo_fn = glob.glob(root_ddir+'*RACMO*.nc')\n",
    "\n",
    "### Hillshade\n",
    "hs = xr.open_dataset(hillshade_fn[0])\n",
    "\n",
    "### Velocities\n",
    "vx = rxr.open_rasterio(velocity_fn[0])[0,:,:]\n",
    "vy = rxr.open_rasterio(velocity_fn[1])[0,:,:]\n",
    "vz=vy.copy()\n",
    "vz.values=np.zeros(np.shape(vy.values))\n",
    "speed=np.sqrt(vx**2+vy**2)\n",
    "\n",
    "### Glacial geometry\n",
    "ice_bed_props = rxr.open_rasterio(ice_info_fn[0])\n",
    "thickness = ice_bed_props['thickness'][0,:,:]\n",
    "bed = ice_bed_props['bed'][0,:,:]\n",
    "surface = ice_bed_props['surface'][0,:,:]\n",
    "\n",
    "### Climate forcings\n",
    "geothermal = xr.open_rasterio(geothermal_fn[0])[0,:,:]/1000\n",
    "racmo = xr.open_dataset(racmo_fn[0])\n",
    "surftemp = racmo['T2m_avg']\n",
    "SMB = racmo['SMB_avg']"
   ]
  },
  {
   "cell_type": "code",
   "execution_count": null,
   "id": "adc5ff01-d41e-4760-86be-eefd792d33bd",
   "metadata": {
    "tags": []
   },
   "outputs": [],
   "source": [
    "Q = firedrake.FunctionSpace(mesh, family='CG', degree=2, vfamily='R', vdegree=0)\n",
    "V = firedrake.VectorFunctionSpace(mesh, family='CG', dim=2, degree=2, vfamily='GL', vdegree=2)\n",
    "\n",
    "h0 = icepack.interpolate_xr(thickness, Q)\n",
    "s0 = icepack.interpolate_xr(surface, Q)\n",
    "b = icepack.interpolate_xr(bed, Q)\n",
    "u0 = icepack.interpolate_xr((vx, vy), V)\n",
    "\n",
    "#q = firedrake.FunctionSpace(mesh2d, family='CG', degree=2)\n",
    "#v = firedrake.VectorFunctionSpace(mesh2d, family='CG', degree=2)\n",
    "\n",
    "#h0_2d = icepack.interpolate_xr(thickness, q)\n",
    "#s0_2d = icepack.interpolate_xr(surface, q)\n",
    "#b_2d = icepack.interpolate_xr(bed, q)\n",
    "#u0_2d = icepack.interpolate_xr((vx, vy), v)"
   ]
  },
  {
   "cell_type": "markdown",
   "id": "6345cdfd-85f3-4c1f-a8cd-baf9accaad50",
   "metadata": {},
   "source": [
    "### Plotting Functions"
   ]
  },
  {
   "cell_type": "code",
   "execution_count": null,
   "id": "9c0d0815-22f0-4b4a-8c88-fa2a44ca27c9",
   "metadata": {},
   "outputs": [],
   "source": [
    "def subplots(*args, **kwargs):\n",
    "    zoom = kwargs.get(\"zoom\",0)\n",
    "    figsize = kwargs.get(\"figsize\",(8,8))\n",
    "    \n",
    "    fig, ax = plt.subplots(figsize=figsize)\n",
    "    im1=ax.imshow(hs['hillshade'].values,\n",
    "                  extent=[hs['x'].values.min(),hs['x'].values.max(),hs['y'].values.min(),hs['y'].values.max()],\n",
    "                  cmap='Greys_r', vmin=0,vmax=200,origin='upper')\n",
    "    \n",
    "    plt.ticklabel_format(style='sci', axis='x', scilimits=(0,0))    \n",
    "    \n",
    "    if zoom == -1:\n",
    "        ax.set_ylim([-1.6e6,-1e6]);\n",
    "        ax.set_xlim([-0.325e6,0.1e6]);\n",
    "    elif zoom == 0:\n",
    "        ax.set_ylim([-1.55e6,-.9e6]);\n",
    "        ax.set_xlim([-0.3e6,0.05e6]);\n",
    "    elif zoom == 1:\n",
    "        ax.set_ylim(-1.1e6,-0.9e6);\n",
    "        ax.set_xlim(-3e5,-1.5e5);\n",
    "\n",
    "    ax.set_aspect('equal')\n",
    "    \n",
    "    return fig, ax"
   ]
  },
  {
   "cell_type": "code",
   "execution_count": null,
   "id": "c4ef9067-7560-4c18-8a59-d9e3a2b79353",
   "metadata": {},
   "outputs": [],
   "source": [
    "fig,ax = subplots(zoom=1)\n",
    "kwargs = {\n",
    "    'interior_kw': {'linewidth': .25},\n",
    "    'boundary_kw': {'linewidth': 2}\n",
    "}\n",
    "icepack.plot.triplot(mesh2d, axes=ax, **kwargs);\n",
    "ax.legend();\n",
    "\n",
    "fig,ax = subplots(zoom=1)\n",
    "colors = icepack.plot.tripcolor(h0, axes=ax)\n",
    "fig.colorbar(colors, label='meters');\n",
    "\n",
    "fig, ax = subplots(zoom=1)\n",
    "streamlines = icepack.plot.streamplot(u0, precision=1e3, density=4e3, axes=ax)\n",
    "fig.colorbar(streamlines, label='meters/year');"
   ]
  },
  {
   "cell_type": "markdown",
   "id": "834c1478-5d30-43c7-b3f3-033cc2dc9aff",
   "metadata": {},
   "source": [
    "## Modeling"
   ]
  },
  {
   "cell_type": "markdown",
   "id": "f78206d8-fc38-4fae-86e2-19fb74cc0093",
   "metadata": {},
   "source": [
    "### Friction"
   ]
  },
  {
   "cell_type": "code",
   "execution_count": null,
   "id": "6d20122e-2aff-4efc-8ae3-472e42de7bcf",
   "metadata": {},
   "outputs": [],
   "source": [
    "from icepack.constants import (\n",
    "    ice_density as ρ_I,\n",
    "    water_density as ρ_W,\n",
    "    gravity as g,\n",
    "    weertman_sliding_law as m\n",
    ")\n",
    "from firedrake import Constant, sqrt, inner, grad, dx\n",
    "import os\n",
    "\n",
    "### Import friction parameterization (derived in PetermannBasin_Friction)\n",
    "C=firedrake.Function(Q)\n",
    "\n",
    "\n",
    "filename = 'Petermann_basin_friction'\n",
    "if os.path.isfile(filename+'.h5'):\n",
    "    with firedrake.DumbCheckpoint(filename, \"r\") as chk:\n",
    "        chk.load(C, name=\"friction\")\n",
    "else:\n",
    "    α = Constant(10e3)\n",
    "    τ = firedrake.Function(V)\n",
    "    τ_d = -ρ_I * g * h0 *firedrake.as_vector([grad(s0)[0],grad(s0)[1]])\n",
    "    misfit = 0.5 * inner(τ - τ_d, τ - τ_d) * dx\n",
    "    smoothness = 0.5 * α ** 2 * inner(grad(τ), grad(τ)) * dx\n",
    "    J = misfit + smoothness\n",
    "    F = firedrake.derivative(J, τ)\n",
    "    firedrake.solve(F == 0, τ)\n",
    "\n",
    "    p_W = ρ_W * g * firedrake.max_value(0, h0 - s0)\n",
    "    p_I = ρ_I * g * h0\n",
    "    ϕ = 1 - p_W / p_I\n",
    "    C_est = sqrt(inner(τ, τ)) / sqrt(inner(u0, u0))\n",
    "    fraction = Constant(0.5)\n",
    "\n",
    "    expr = ϕ * fraction * C_est ** (1 / m)\n",
    "\n",
    "    C = firedrake.interpolate(expr, Q)\n",
    "    #area = firedrake.assemble(Constant(1.0) * dx(mesh))\n",
    "    #C_0 = Constant(firedrake.assemble(C_0 * dx) / area)\n",
    "\n",
    "pw = firedrake.interpolate(ϕ,Q)\n",
    "fig1,ax1 = subplots()\n",
    "colors1 = icepack.plot.tripcolor(icepack.depth_average(pw), axes=ax1)\n",
    "fig.colorbar(colors1);\n",
    "ax1.set_title(\"Pressure Mask\")\n",
    "    \n",
    "fig2,ax2 = subplots()\n",
    "colors2 = icepack.plot.tripcolor(C, axes=ax2)\n",
    "fig.colorbar(colors2);\n",
    "ax2.set_title(\"Friction Coefficient\")"
   ]
  },
  {
   "cell_type": "code",
   "execution_count": null,
   "id": "86e1da93-2f24-437f-a542-2c422e6281a8",
   "metadata": {},
   "outputs": [],
   "source": [
    "import icepack.models.hybrid\n",
    "from icepack.constants import (\n",
    "    ice_density as ρ_I,\n",
    "    water_density as ρ_W,\n",
    "    year as year,\n",
    "    gravity as g\n",
    ")\n",
    "\n",
    "def friction(**kwargs):\n",
    "    u = kwargs['velocity']\n",
    "    h = kwargs['thickness']\n",
    "    s = kwargs['surface']\n",
    "    C = kwargs['friction']\n",
    "    \n",
    "    p_W = ρ_W * g * firedrake.max_value(0, h - s)\n",
    "    p_I = ρ_I * g * h\n",
    "    ϕ = 1 - p_W / p_I\n",
    "    \n",
    "    C = C * ϕ\n",
    "    return icepack.models.friction.bed_friction(velocity=u, friction=C)"
   ]
  },
  {
   "cell_type": "markdown",
   "id": "2bf3fd24-01d3-4844-9995-d88b6ab2af81",
   "metadata": {},
   "source": [
    "### Temperature"
   ]
  },
  {
   "cell_type": "code",
   "execution_count": null,
   "id": "5e1f6d9a-817e-4f5d-983f-268ee256d621",
   "metadata": {},
   "outputs": [],
   "source": [
    "T = firedrake.Constant(255.0)\n",
    "A = icepack.rate_factor(T)"
   ]
  },
  {
   "cell_type": "markdown",
   "id": "ecee4724-e84c-4469-a479-0856c5cf4584",
   "metadata": {},
   "source": [
    "### Accumulation rate"
   ]
  },
  {
   "cell_type": "code",
   "execution_count": null,
   "id": "72191685-3b24-448f-970b-9807d7fae3f8",
   "metadata": {},
   "outputs": [],
   "source": [
    "a = firedrake.Constant(0)"
   ]
  },
  {
   "cell_type": "markdown",
   "id": "52f029b3-1315-4dbc-b952-15efc5c45ee1",
   "metadata": {},
   "source": [
    "### Model/Solver"
   ]
  },
  {
   "cell_type": "code",
   "execution_count": null,
   "id": "39fdb122-625f-4913-8aef-3f29da0db2f2",
   "metadata": {},
   "outputs": [],
   "source": [
    "model = icepack.models.HybridModel(friction=friction)\n",
    "degree = 4\n",
    "opts = {\n",
    "    \"dirichlet_ids\": [5,6,7,8],\n",
    "    \"side_wall_ids\": [1,3,4],\n",
    "    \"diagnostic_solver_type\": \"petsc\",\n",
    "    \"diagnostic_solver_parameters\": {\n",
    "        \"snes_type\": \"newtontr\",\n",
    "        \"ksp_type\": \"gmres\",\n",
    "        \"pc_type\": \"lu\",\n",
    "        \"pc_factor_mat_solver_type\": \"mumps\",\n",
    "    },\n",
    "    \"form_compiler_parameters\": {\n",
    "        \"quadrature_degree\": degree\n",
    "    }\n",
    "}\n",
    "solver = icepack.solvers.FlowSolver(model, **opts)"
   ]
  },
  {
   "cell_type": "code",
   "execution_count": null,
   "id": "2360bf28-0794-433f-b0c4-6eee380fa74c",
   "metadata": {},
   "outputs": [],
   "source": [
    "h = h0.copy(deepcopy=True)\n",
    "u = solver.diagnostic_solve(\n",
    "    velocity=u0,\n",
    "    thickness=h0,\n",
    "    surface=s0,\n",
    "    fluidity=A,\n",
    "    friction=C\n",
    ")"
   ]
  },
  {
   "cell_type": "code",
   "execution_count": null,
   "id": "fec89a3c-9a8f-4945-bc18-6e218fb2f499",
   "metadata": {},
   "outputs": [],
   "source": [
    "import tqdm\n",
    "\n",
    "num_years = 400\n",
    "timesteps_per_year = 1\n",
    "\n",
    "δt = 1.0 / timesteps_per_year\n",
    "num_timesteps = num_years * timesteps_per_year\n",
    "\n",
    "us=[]\n",
    "hs=[]\n",
    "ss=[]\n",
    "\n",
    "for step in tqdm.trange(num_timesteps):\n",
    "    h = solver.prognostic_solve(\n",
    "        δt,\n",
    "        thickness=h,\n",
    "        velocity=u,\n",
    "        accumulation=a,\n",
    "        thickness_inflow=h0\n",
    "    )\n",
    "    s = icepack.compute_surface(thickness=h, bed=b)\n",
    "    \n",
    "    u = solver.diagnostic_solve(\n",
    "        velocity=u,\n",
    "        thickness=h,\n",
    "        surface=s,\n",
    "        fluidity=A,\n",
    "        friction=C\n",
    "    )\n",
    "    us.append(u)\n",
    "    hs.append(h)\n",
    "    ss.append(s)"
   ]
  },
  {
   "cell_type": "markdown",
   "id": "9ef55830-4597-4ebe-8af3-5a1a2f1f323f",
   "metadata": {
    "tags": []
   },
   "source": [
    "## Analysis"
   ]
  },
  {
   "cell_type": "markdown",
   "id": "99114baf-235c-485a-8ea7-7014004d761b",
   "metadata": {
    "tags": []
   },
   "source": [
    "To make the videos you can download ndh.generate_animation and ndh.show_video from [here](https://github.com/nholschuh/NDH_PythonTools)"
   ]
  },
  {
   "cell_type": "code",
   "execution_count": null,
   "id": "6aa63fc6-7c8f-4c10-a271-57292b6beecf",
   "metadata": {},
   "outputs": [],
   "source": [
    "import NDH_Tools as ndh"
   ]
  },
  {
   "cell_type": "code",
   "execution_count": null,
   "id": "df2bbc0f-b6e5-4725-bc68-faefce50ecdf",
   "metadata": {},
   "outputs": [],
   "source": [
    "def glacier_z_coords(var, h, s, b, field, xsampling=100, zsampling=10):\n",
    "    ################# Here, we produce the x and ζ coordinates to extract\n",
    "    x_opts = np.linspace(0.001,Lx-0.001,xsampling)\n",
    "    ζ_opts = np.linspace(0.001,0.999,zsampling)\n",
    "    x_coords_grid,ζ_coords_grid=np.meshgrid(x_opts,ζ_opts)\n",
    "\n",
    "    orig_size = x_coords_grid.shape\n",
    "    x_coords_vec = np.reshape(x_coords_grid,[1,np.prod(orig_size)])\n",
    "    ζ_coords_vec = np.reshape(ζ_coords_grid,[1,np.prod(orig_size)])\n",
    "\n",
    "    ################# Combine the x and ζ 1D arrays to get an n x 2 array containing all the points we want to extract\n",
    "    coord_list = np.concatenate([x_coords_vec,ζ_coords_vec]).T\n",
    "\n",
    "    ################# Here we loop through the list of coordinates and extract the points at relevant values \n",
    "    ################# (Firedrake can probably do this without a loop, but I started testing things this way)\n",
    "    var_extract = []\n",
    "\n",
    "    for i in coord_list:\n",
    "        var_extract.append(var.at(i[0],i[1]))\n",
    "\n",
    "    ################# We turn that into a numpy array, and then we turn it into the shape of the original meshgrids\n",
    "    var_extract_vec = np.array(var_extract)\n",
    "    var_extract_grid = np.reshape(var_extract,orig_size)\n",
    "\n",
    "    ################# Here we create an array of the ice surface elevation values\n",
    "    surf = np.array(icepack.depth_average(s).at(x_opts))\n",
    "    ################# Here we create an array of the ice surface elevation values\n",
    "    bed = np.array(icepack.depth_average(b).at(x_opts))\n",
    "    ################# And then the ice bed elevation values -- What does the Q do here? I just copied Wills code that worked.\n",
    "    ice_base = firedrake.interpolate(s - h, field)\n",
    "    ice_base = np.array(icepack.depth_average(ice_base).at(x_opts))\n",
    "\n",
    "    ################# Then, using a bit of matrix algebra, we create a (1) matrix of relative thickness positions corresponding to the \n",
    "    ################# ζ values, and then we add it to a matrix of the bed elevation values (made to be the same size as the original z mesh grid)\n",
    "    ################# This produces a matrix, the same size at the x_coords_grid, with corresponding true z for the glacier\n",
    "    z_coords_grid = np.matmul(np.matrix(ζ_opts).T,np.matrix(surf-ice_base))+np.tile(ice_base,(zsampling,1))\n",
    "    \n",
    "    return(var_extract_grid, surf, bed, ice_base, x_opts, x_coords_grid, z_coords_grid)"
   ]
  },
  {
   "cell_type": "code",
   "execution_count": null,
   "id": "3a1b5e8b-b6f8-4cbc-bcd6-12e050467b99",
   "metadata": {
    "tags": []
   },
   "outputs": [],
   "source": [
    "def glacier_plot(u, h, s, b, field, xsampling=200, zsampling=100):\n",
    "    (u_extract_grid, surf, bed, ice_b, x_opts, x_coords_grid, z_coords_grid) = glacier_z_coords(u, h, s, b, field, xsampling, zsampling)\n",
    "    \n",
    "    fig, ax = plt.subplots(figsize=(10,5))\n",
    "\n",
    "    cdata = plt.pcolor(x_coords_grid,z_coords_grid,u_extract_grid)\n",
    "    cbar = plt.colorbar(cdata,label='Speed (m/a)')\n",
    "    plt.plot(x_opts,surf,c='steelblue')\n",
    "    plt.plot(x_opts,ice_b,c='steelblue')\n",
    "    plt.plot(x_opts,bed,c='black')\n",
    "\n",
    "    plt.xlabel('Distance Along Glacier (m)')\n",
    "    plt.ylabel('Elevation (m)')\n",
    "    return fig, ax\n",
    "initial_glacier=glacier_plot(u0,h0,s0,b,V)"
   ]
  },
  {
   "cell_type": "code",
   "execution_count": null,
   "id": "7d716bf8-9c23-4824-8601-e2c89ced4d51",
   "metadata": {},
   "outputs": [],
   "source": [
    "writer = ndh.generate_animation(5,'Slices')\n",
    "videoname1 = 'Evolution_speed.mp4'\n",
    "\n",
    "fig, axes = plt.subplots(figsize=(10,6))\n",
    "axes.set_xlabel('Distance Along Glacier (m)')\n",
    "axes.set_ylabel('Elevation (m)')\n",
    "axes.set_title('Speed Evolution (m/a)')\n",
    "with writer.saving(fig, videoname1, 100):\n",
    "    for i,u in enumerate(us[::5]):\n",
    "        (u_extract_grid, surf, bed, ice_b, x_opts, x_coords_grid, z_coords_grid) = glacier_z_coords(u, hs[i], ss[i], b, V,xsampling=200,zsampling=100)\n",
    "\n",
    "        cdata = axes.pcolor(x_coords_grid,z_coords_grid,u_extract_grid)\n",
    "        cbar = plt.colorbar(cdata,label='Speed (m/a)')\n",
    "\n",
    "        l1=axes.plot(x_opts,surf,c='steelblue')\n",
    "        l2=axes.plot(x_opts,ice_b,c='steelblue')\n",
    "        l3=axes.plot(x_opts,bed,c='black')\n",
    "\n",
    "        writer.grab_frame()\n",
    "        \n",
    "        cbar.remove()\n",
    "        l1.pop(0).remove()\n",
    "        l2.pop(0).remove()\n",
    "        l3.pop(0).remove()\n",
    "        cdata.remove();"
   ]
  },
  {
   "cell_type": "code",
   "execution_count": null,
   "id": "db653326-8570-4042-8832-20dbf2808b8e",
   "metadata": {},
   "outputs": [],
   "source": [
    "ndh.show_video('Evolution_speed.mp4')"
   ]
  },
  {
   "cell_type": "code",
   "execution_count": null,
   "id": "22d09a89-bb39-4e3f-971c-2ff78478bf9c",
   "metadata": {},
   "outputs": [],
   "source": []
  }
 ],
 "metadata": {
  "kernelspec": {
   "display_name": "firedrake",
   "language": "python",
   "name": "firedrake"
  },
  "language_info": {
   "codemirror_mode": {
    "name": "ipython",
    "version": 3
   },
   "file_extension": ".py",
   "mimetype": "text/x-python",
   "name": "python",
   "nbconvert_exporter": "python",
   "pygments_lexer": "ipython3",
   "version": "3.8.10"
  }
 },
 "nbformat": 4,
 "nbformat_minor": 5
}
