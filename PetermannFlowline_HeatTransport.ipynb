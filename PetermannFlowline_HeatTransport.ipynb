{
 "cells": [
  {
   "cell_type": "markdown",
   "id": "b310b96d-3aa2-4aa4-907a-f86bd8326a15",
   "metadata": {},
   "source": [
    "# Petermann Heat Transport\n",
    "\n",
    "Use icepack HeatTransport model to obtain a Petermann system in thermal equilibrium from RACMO2 surface temp and Martos geothermal flux data (flowline model)"
   ]
  },
  {
   "cell_type": "markdown",
   "id": "46c376f0-337d-470f-a796-87735a3ab851",
   "metadata": {
    "tags": []
   },
   "source": [
    "## Setup"
   ]
  },
  {
   "cell_type": "code",
   "execution_count": null,
   "id": "cc26a259-bb29-4d1a-9cf5-f67e7d9e8bf7",
   "metadata": {},
   "outputs": [],
   "source": [
    "import sys \n",
    "import glob\n",
    "import os\n",
    "\n",
    "import matplotlib.pyplot as plt\n",
    "import numpy as np\n",
    "\n",
    "import rioxarray as rxr\n",
    "import xarray as xr\n",
    "import rasterio\n",
    "\n",
    "import geojson\n",
    "\n",
    "import firedrake\n",
    "import icepack\n",
    "import icepack.plot"
   ]
  },
  {
   "cell_type": "markdown",
   "id": "e0d26a32-b56b-426f-a185-313997b2ab32",
   "metadata": {
    "tags": []
   },
   "source": [
    "### Mesh"
   ]
  },
  {
   "cell_type": "code",
   "execution_count": null,
   "id": "1b8da40b-50c5-4c8a-b048-1bfd8f02df38",
   "metadata": {},
   "outputs": [],
   "source": [
    "### Load basin outline\n",
    "outline_fn = 'petermann_streamlines_evenspace_full.geojson'\n",
    "\n",
    "with open(outline_fn, 'r') as outline_file:\n",
    "    basin_outline = geojson.load(outline_file)\n",
    "    \n",
    "basin_coords = []\n",
    "for i in basin_outline['features'][0]['geometry']['coordinates']:\n",
    "    for coord in i:\n",
    "        basin_coords.append(coord)\n",
    "basin_coords=np.array(basin_coords)\n",
    "\n",
    "### Load flowline file\n",
    "new_fn_nc = 'Petermann-centerline.nc'\n",
    "flowline = xr.open_dataset(new_fn_nc)"
   ]
  },
  {
   "cell_type": "code",
   "execution_count": null,
   "id": "b4127802-4f5e-4f47-99c7-1b4342e8b3e3",
   "metadata": {},
   "outputs": [],
   "source": [
    "# Establish mesh, function spaces, and vector spaces that variables will live on in the mesh\n",
    "ld=flowline['linedist'][0]\n",
    "Lx = np.int(np.round(ld[-1]))\n",
    "nx = np.int(np.round(ld[-1]/1000))\n",
    "\n",
    "mesh1d = firedrake.IntervalMesh(nx, Lx)\n",
    "mesh = firedrake.ExtrudedMesh(mesh1d, layers=1)\n",
    "\n",
    "Q = firedrake.FunctionSpace(\n",
    "    mesh, family='CG', degree=2,\n",
    "    vfamily='R', vdegree=0\n",
    ")\n",
    "\n",
    "V = firedrake.FunctionSpace(\n",
    "    mesh, family='CG', degree=2,\n",
    "    vfamily='GL', vdegree=2\n",
    ")\n",
    "\n",
    "# Define spatial coordinates on the mesh\n",
    "x, ζ = firedrake.SpatialCoordinate(mesh)"
   ]
  },
  {
   "cell_type": "markdown",
   "id": "941e8dad-89bd-4590-bfe7-d3f168211ac1",
   "metadata": {},
   "source": [
    "### Load/Interpolate Raster Data"
   ]
  },
  {
   "cell_type": "markdown",
   "id": "7ff5f160-2914-4281-81a4-7602839d07cc",
   "metadata": {
    "tags": []
   },
   "source": [
    "#### Reading Data\n",
    "Here, you should define root_ddir as the directory containing the BedMachine, MEaSUREs, hillshade, and climate forcing files\n",
    "All files except BedMachine can be found [here](https://drive.google.com/drive/folders/1vSetbOF5Iy26ETMAF_-VXlrqotyp_3EO?usp=sharing).\n",
    "BedMachine and other file sources can be found here:\n",
    "- [BedMachine](https://nsidc.org/data/idbmg4/versions/5)\n",
    "- [MEaSUREs](https://nsidc.org/grimp)\n",
    "- [Martos Geothermal heat flux](https://doi.pangaea.de/10.1594/PANGAEA.892973?format=html#download)\n",
    "- [RACMO2 Surface Temperature/Surface Mass Balance](https://doi.org/10.5194/tc-10-2361-2016) (Need to email author Brice Noel for dataset)\n",
    "- [Hillshade](https://drive.google.com/drive/folders/1vSetbOF5Iy26ETMAF_-VXlrqotyp_3EO?usp=sharing) (creator is Nicholas Holchuh)\n"
   ]
  },
  {
   "cell_type": "code",
   "execution_count": null,
   "id": "fd0b1c99-dbed-4b7d-85ce-fc5a498a8c60",
   "metadata": {},
   "outputs": [],
   "source": [
    "### Reading Data\n",
    "### Here, you should define root_ddir as the directory containing the BedMachine, MEaSUREs, hillshade, and climate forcing files\n",
    "\n",
    "root_ddir = '/mnt/data01/Data/'\n",
    "\n",
    "velocity_fn = glob.glob(root_ddir+'*vel*.nc')\n",
    "ice_info_fn = glob.glob(root_ddir+'*BedMachine*.nc')\n",
    "hillshade_fn = glob.glob(root_ddir+'*Hillshade*.nc') \n",
    "geothermal_fn = glob.glob(root_ddir+'*Martos*.nc')\n",
    "racmo_fn = glob.glob(root_ddir+'*RACMO*.nc')\n",
    "\n",
    "### Hillshade\n",
    "hs = xr.open_dataset(hillshade_fn[0])\n",
    "\n",
    "### Velocities\n",
    "vx = rxr.open_rasterio(velocity_fn[0])[0,:,:]\n",
    "vy = rxr.open_rasterio(velocity_fn[1])[0,:,:]\n",
    "vz=vy.copy()\n",
    "vz.values=np.zeros(np.shape(vy.values))\n",
    "speed=np.sqrt(vx**2+vy**2)\n",
    "\n",
    "### Glacial geometry\n",
    "ice_bed_props = rxr.open_rasterio(ice_info_fn[0])\n",
    "thickness = ice_bed_props['thickness'][0,:,:]\n",
    "bed = ice_bed_props['bed'][0,:,:]\n",
    "surface = ice_bed_props['surface'][0,:,:]\n",
    "\n",
    "### Climate forcings\n",
    "geothermal = xr.open_rasterio(geothermal_fn[0])[0,:,:]/1000\n",
    "racmo = xr.open_dataset(racmo_fn[0])\n",
    "surftemp = racmo['T2m_avg']\n",
    "SMB = racmo['SMB_avg']"
   ]
  },
  {
   "cell_type": "code",
   "execution_count": null,
   "id": "0b7be4ac-ab33-4213-9053-7ca82d6414a1",
   "metadata": {
    "tags": []
   },
   "outputs": [],
   "source": [
    "####### Here we interpolate onto the mesh\n",
    "h0 = icepack.interpolate_xr(flowline['Thickness'], Q)\n",
    "s0 = icepack.interpolate_xr(flowline['Surface'], Q)\n",
    "b = icepack.interpolate_xr(flowline['Bed'], Q)\n",
    "u0 = icepack.interpolate_xr(flowline['Speed'], V)\n",
    "gt0 = icepack.interpolate_xr(flowline['Geothermal'], Q)\n",
    "st0 = icepack.interpolate_xr(flowline['SurfTemp'], Q)\n",
    "\n",
    "h_in = h0.at([0,0])\n",
    "s_in = s0.at([0,0])\n",
    "u_in = u0.at([0,0])\n",
    "s_out = s0.at([Lx,0])"
   ]
  },
  {
   "cell_type": "markdown",
   "id": "8db71762-8561-4fe8-b90f-5565eeeb75d0",
   "metadata": {},
   "source": [
    "### Plotting Functions"
   ]
  },
  {
   "cell_type": "code",
   "execution_count": null,
   "id": "5caee669-9c7e-4c5b-8418-80ca2f18e0dd",
   "metadata": {},
   "outputs": [],
   "source": [
    "def basin_subplot(*args, **kwargs):\n",
    "    zoom = kwargs.get(\"zoom\",0)\n",
    "    image = kwargs.get(\"image\",0)\n",
    "    \n",
    "    fig, ax = plt.subplots(figsize=[8,8])\n",
    "    im1=ax.imshow(hs['hillshade'].values,\n",
    "                  extent=[hs['x'].values.min(),hs['x'].values.max(),hs['y'].values.min(),hs['y'].values.max()],\n",
    "                  cmap='Greys_r', vmin=0,vmax=200,origin='upper')\n",
    "    plt.ticklabel_format(style='sci', axis='x', scilimits=(0,0))\n",
    "    \n",
    "    plt.plot(basin_coords.T[0],basin_coords.T[1],c='darkred')\n",
    "    \n",
    "    if zoom == -1:\n",
    "        ax.set_ylim([-1.6e6,-1e6]);\n",
    "        ax.set_xlim([-0.325e6,0.1e6]);\n",
    "    elif zoom == 0:\n",
    "        ax.set_ylim([-1.55e6,-.9e6]);\n",
    "        ax.set_xlim([-0.3e6,0.05e6]);\n",
    "    elif zoom == 1:\n",
    "        ax.set_ylim(-1.1e6,-0.9e6);\n",
    "        ax.set_xlim(-3e5,-1.5e5);\n",
    "\n",
    "    ax.set_aspect('equal')\n",
    "    \n",
    "    return fig, ax\n",
    "\n",
    "fig,ax = basin_subplot()\n",
    "ax.plot(flowline['x_pol'][0],flowline['y_pol'][0],c='cyan');"
   ]
  },
  {
   "cell_type": "code",
   "execution_count": null,
   "id": "b4ff1283-f119-4b09-b610-5a281dcc4e58",
   "metadata": {},
   "outputs": [],
   "source": [
    "def depth_avg_plot(h0,u0,gt0,st0):\n",
    "    fig, ax = plt.subplots(2,2)\n",
    "    fig.set_figheight(8)\n",
    "    fig.set_figwidth(12)\n",
    "    firedrake.plot(icepack.depth_average(gt0),axes=ax[0,0])\n",
    "    firedrake.plot(icepack.depth_average(h0),axes=ax[1,0])\n",
    "    firedrake.plot(icepack.depth_average(st0),axes=ax[0,1])\n",
    "    firedrake.plot(icepack.depth_average(u0),axes=ax[1,1])\n",
    "    ax[0,0].set_title('Geothermal Heat Flux (W/m^2)')\n",
    "    ax[0,1].set_title('Surface Temp (K)')\n",
    "    ax[1,0].set_title('Thickness (m)')\n",
    "    ax[1,1].set_title('Speed (m/a)')\n",
    "    return fig, ax\n",
    "\n",
    "depth_avg_plot(h0,u0,gt0,st0);"
   ]
  },
  {
   "cell_type": "code",
   "execution_count": null,
   "id": "75bce398-70e5-4f8e-8326-552cdc0bf518",
   "metadata": {},
   "outputs": [],
   "source": [
    "def glacier_z_coords(var, h, s, b, field, xsampling=200, zsampling=100):\n",
    "    x_opts = np.linspace(0.001,Lx-0.001,xsampling)\n",
    "    ζ_opts = np.linspace(0.001,0.999,zsampling)\n",
    "    x_coords_grid,ζ_coords_grid=np.meshgrid(x_opts,ζ_opts)\n",
    "\n",
    "    orig_size = x_coords_grid.shape\n",
    "    x_coords_vec = np.reshape(x_coords_grid,[1,np.prod(orig_size)])\n",
    "    ζ_coords_vec = np.reshape(ζ_coords_grid,[1,np.prod(orig_size)])\n",
    "\n",
    "    coord_list = np.concatenate([x_coords_vec,ζ_coords_vec]).T\n",
    "\n",
    "    var_extract = []\n",
    "\n",
    "    for i in coord_list:\n",
    "        var_extract.append(var.at(i[0],i[1]))\n",
    "\n",
    "    var_extract_vec = np.array(var_extract)\n",
    "    var_extract_grid = np.reshape(var_extract,orig_size)\n",
    "\n",
    "    surf = np.array(icepack.depth_average(s).at(x_opts))\n",
    "    bed = np.array(icepack.depth_average(b).at(x_opts))\n",
    "    ice_base = firedrake.interpolate(s - h, field)\n",
    "    ice_base = np.array(icepack.depth_average(ice_base).at(x_opts))\n",
    "\n",
    "    z_coords_grid = np.matmul(np.matrix(ζ_opts).T,np.matrix(surf-ice_base))+np.tile(ice_base,(zsampling,1))\n",
    "    \n",
    "    return(var_extract_grid, surf, bed, ice_base, x_opts, x_coords_grid, z_coords_grid)"
   ]
  },
  {
   "cell_type": "code",
   "execution_count": null,
   "id": "9c078900-b66f-4cb6-88f1-b95cdd648c3f",
   "metadata": {
    "tags": []
   },
   "outputs": [],
   "source": [
    "def glacier_plot(var, h, s, b, field, **kwargs):\n",
    "    xsampling = kwargs.get(\"xsampling\",200)\n",
    "    zsampling = kwargs.get(\"ysampling\",100)\n",
    "    fsize = kwargs.get(\"figsize\",(10,5))\n",
    "    cmap = kwargs.get(\"cmap\")\n",
    "    vmin = kwargs.get(\"vmin\")\n",
    "    vmax = kwargs.get(\"vmax\")\n",
    "    \n",
    "    (var_extract_grid, surf, bed, ice_b, x_opts, x_coords_grid, z_coords_grid) = glacier_z_coords(var, h, s, b, field, xsampling, zsampling)\n",
    "    \n",
    "    fig, ax = plt.subplots(figsize=fsize)\n",
    "\n",
    "    cdata = plt.pcolor(x_coords_grid,z_coords_grid,var_extract_grid,\n",
    "                       cmap=cmap,vmin=vmin,vmax=vmax)\n",
    "    cbar = plt.colorbar(cdata)\n",
    "    plt.plot(x_opts,surf,c='steelblue')\n",
    "    plt.plot(x_opts,ice_b,c='steelblue')\n",
    "    plt.plot(x_opts,bed,c='black')\n",
    "\n",
    "    plt.xlabel('Distance Along Glacier (m)')\n",
    "    plt.ylabel('Elevation (m)')\n",
    "    return fig, ax\n",
    "initial_glacier=glacier_plot(st0,h0,s0,b,Q,cmap='coolwarm')"
   ]
  },
  {
   "cell_type": "markdown",
   "id": "837d75dd-14a5-44ee-a5f2-5f5c9583a4e2",
   "metadata": {
    "tags": []
   },
   "source": [
    "## Modeling"
   ]
  },
  {
   "cell_type": "code",
   "execution_count": null,
   "id": "d613d862-d98a-47ad-9dca-fb2d897cfa68",
   "metadata": {},
   "outputs": [],
   "source": [
    "heat_model = icepack.models.HeatTransport3D()\n",
    "heat_solver = icepack.solvers.HeatTransportSolver(heat_model)\n",
    "\n",
    "#Δ = firedrake.FunctionSpace(mesh, family='DG', degree=1)\n",
    "#E = firedrake.Function(Δ)"
   ]
  },
  {
   "cell_type": "code",
   "execution_count": null,
   "id": "a9a7ae5a-5f8a-4026-8b4c-3ff9e82976ca",
   "metadata": {},
   "outputs": [],
   "source": [
    "from icepack.constants import (\n",
    "    ice_density as ρ_I,\n",
    "    year as year,\n",
    "    thermal_diffusivity as α,\n",
    "    heat_capacity as c,\n",
    "    latent_heat as L,\n",
    "    melting_temperature as Tm)\n",
    "\n",
    "### Initial guess of the glacier temperature\n",
    "ice_t = firedrake.Constant(200)\n",
    "f = firedrake.Constant(0.)\n",
    "\n",
    "E_surf = firedrake.interpolate(heat_model.energy_density(st0,f),Q)\n",
    "E_geo = firedrake.interpolate(gt0,Q)"
   ]
  },
  {
   "cell_type": "code",
   "execution_count": null,
   "id": "1f4ca228-53b9-40a7-8a02-2ca600af64d1",
   "metadata": {},
   "outputs": [],
   "source": [
    "import tqdm\n",
    "final_time = 400.\n",
    "num_timesteps = 400\n",
    "dt = final_time / num_timesteps\n",
    "\n",
    "E_0 = heat_model.energy_density(ice_t,f)\n",
    "E_0 = firedrake.interpolate(E_0,Q)\n",
    "E = E_0.copy(deepcopy=True)\n",
    "\n",
    "Es=[E_0]\n",
    "\n",
    "for step in tqdm.trange(num_timesteps):\n",
    "    E = heat_solver.solve(\n",
    "        dt=dt,\n",
    "        energy=E,\n",
    "        velocity=u0,\n",
    "        vertical_velocity=firedrake.Constant(0.),\n",
    "        thickness=h0,\n",
    "        energy_inflow=firedrake.Constant(0.),\n",
    "        energy_surface=E_surf,\n",
    "        heat_bed=gt0,\n",
    "        heat=firedrake.Constant(0.)\n",
    "    )\n",
    "    Es.append(E)"
   ]
  },
  {
   "cell_type": "markdown",
   "id": "ce7e2502-d098-4db6-a408-8f69fe5170fc",
   "metadata": {},
   "source": [
    "## Analysis"
   ]
  },
  {
   "cell_type": "code",
   "execution_count": null,
   "id": "d062027c-4557-45dc-b1eb-82b03b1aa256",
   "metadata": {},
   "outputs": [],
   "source": [
    "import NDH_Tools as ndh"
   ]
  },
  {
   "cell_type": "code",
   "execution_count": null,
   "id": "aeff9f00-c24c-43e1-8dde-5b5d7523b946",
   "metadata": {},
   "outputs": [],
   "source": [
    "T_fin = firedrake.interpolate(heat_model.temperature(E),Q)\n",
    "initial_glacier=glacier_plot(st0,h0,s0,b,Q,cmap='coolwarm')"
   ]
  }
 ],
 "metadata": {
  "kernelspec": {
   "display_name": "firedrake",
   "language": "python",
   "name": "firedrake"
  },
  "language_info": {
   "codemirror_mode": {
    "name": "ipython",
    "version": 3
   },
   "file_extension": ".py",
   "mimetype": "text/x-python",
   "name": "python",
   "nbconvert_exporter": "python",
   "pygments_lexer": "ipython3",
   "version": "3.8.10"
  },
  "widgets": {
   "application/vnd.jupyter.widget-state+json": {
    "state": {},
    "version_major": 2,
    "version_minor": 0
   }
  }
 },
 "nbformat": 4,
 "nbformat_minor": 5
}
