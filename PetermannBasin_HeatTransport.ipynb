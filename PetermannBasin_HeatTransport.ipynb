{
 "cells": [
  {
   "cell_type": "markdown",
   "id": "cfc17358-0142-4af4-8ecf-d5af3b888cf0",
   "metadata": {
    "tags": []
   },
   "source": [
    "# Petermann Heat Transport\n",
    "\n",
    "Use icepack HeatTransport model to make a 3D Petermann system in thermal equilibrium from RACMO2 surface temp and Martos geothermal flux data"
   ]
  },
  {
   "cell_type": "markdown",
   "id": "b33ec900-f488-4f21-8f87-993f880c16ca",
   "metadata": {
    "tags": []
   },
   "source": [
    "## Setup"
   ]
  },
  {
   "cell_type": "code",
   "execution_count": null,
   "id": "f67ac40c-67d3-49f4-808b-10faa300b2ec",
   "metadata": {},
   "outputs": [],
   "source": [
    "import sys \n",
    "import glob\n",
    "import os\n",
    "\n",
    "import matplotlib.pyplot as plt\n",
    "import numpy as np\n",
    "\n",
    "import rioxarray as rxr\n",
    "import xarray as xr\n",
    "import rasterio\n",
    "\n",
    "import geojson\n",
    "\n",
    "import firedrake\n",
    "import icepack\n",
    "import icepack.plot"
   ]
  },
  {
   "cell_type": "markdown",
   "id": "3cb3a0b9-638f-405a-998d-4a8e3b380b47",
   "metadata": {
    "tags": []
   },
   "source": [
    "### Mesh"
   ]
  },
  {
   "cell_type": "code",
   "execution_count": null,
   "id": "4336c966-1c0a-46ad-af41-e952bcc8b539",
   "metadata": {},
   "outputs": [],
   "source": [
    "outline_fn = 'petermann_streamlines_evenspace_full.geojson'\n",
    "fn=outline_fn.split('.')[0]\n",
    "\n",
    "with open(outline_fn, 'r') as outline_file:\n",
    "    outline = geojson.load(outline_file)"
   ]
  },
  {
   "cell_type": "code",
   "execution_count": null,
   "id": "27feba59-275c-489a-aaf0-acf54657f631",
   "metadata": {},
   "outputs": [],
   "source": [
    "if os.path.isfile(fn+'.msh'):\n",
    "    pass\n",
    "else:\n",
    "    geometry = icepack.meshing.collection_to_geo(outline)\n",
    "\n",
    "    with open('petermann_streamline_evenspace_full.geo', 'w') as geo_file:\n",
    "        geo_file.write(geometry.get_code())\n",
    "        \n",
    "    !gmsh -2 -format msh2 -v 2 -o petermann_streamline_evenspace_full.msh petermann_streamline_evenspace_full.geo;"
   ]
  },
  {
   "cell_type": "code",
   "execution_count": null,
   "id": "9525dd58-43f9-40f1-bb1b-a96e52303073",
   "metadata": {},
   "outputs": [],
   "source": [
    "mesh2d = firedrake.Mesh('petermann_streamlines_evenspace'+'.msh')\n",
    "mesh = firedrake.ExtrudedMesh(mesh2d, layers=1)\n",
    "\n",
    "flowline_fn = 'Petermann-centerline.nc'\n",
    "flowline = xr.open_dataset(flowline_fn)\n",
    "line = np.stack([flowline['x_pol'][0].values,flowline['y_pol'][0].values]).T"
   ]
  },
  {
   "cell_type": "markdown",
   "id": "8fc51fc0-e851-403f-beee-a2a4b8882bad",
   "metadata": {},
   "source": [
    "### Load/Interpolate Raster Data"
   ]
  },
  {
   "cell_type": "markdown",
   "id": "37749273-0756-48b8-b020-a235a7cef524",
   "metadata": {},
   "source": [
    "#### Reading Data\n",
    "Here, you should define root_ddir as the directory containing the BedMachine, MEaSUREs, hillshade, and climate forcing files\n",
    "All files except BedMachine can be found [here](https://drive.google.com/drive/folders/1vSetbOF5Iy26ETMAF_-VXlrqotyp_3EO?usp=sharing).\n",
    "BedMachine and other file sources can be found here:\n",
    "- [BedMachine](https://nsidc.org/data/idbmg4/versions/5)\n",
    "- [MEaSUREs](https://nsidc.org/grimp)\n",
    "- [Martos Geothermal heat flux](https://doi.pangaea.de/10.1594/PANGAEA.892973?format=html#download)\n",
    "- [RACMO2 Surface Temperature/Surface Mass Balance](https://doi.org/10.5194/tc-10-2361-2016) (Need to email author Brice Noel for dataset)\n",
    "- [Hillshade](https://drive.google.com/drive/folders/1vSetbOF5Iy26ETMAF_-VXlrqotyp_3EO?usp=sharing) (creator is Nicholas Holchuh)\n"
   ]
  },
  {
   "cell_type": "code",
   "execution_count": null,
   "id": "8dbea802-de15-4751-a9ea-1f003885dadc",
   "metadata": {},
   "outputs": [],
   "source": [
    "### Reading Data\n",
    "### Here, you should define root_ddir as the directory containing the BedMachine, MEaSUREs, hillshade, and climate forcing files\n",
    "\n",
    "root_ddir = '/mnt/data01/Data/'\n",
    "\n",
    "velocity_fn = glob.glob(root_ddir+'*vel*.nc')\n",
    "ice_info_fn = glob.glob(root_ddir+'*BedMachine*.nc')\n",
    "hillshade_fn = glob.glob(root_ddir+'*Hillshade*.nc') \n",
    "geothermal_fn = glob.glob(root_ddir+'*Martos*.nc')\n",
    "racmo_fn = glob.glob(root_ddir+'*RACMO*.nc')\n",
    "\n",
    "### Hillshade\n",
    "hs = xr.open_dataset(hillshade_fn[0])\n",
    "\n",
    "### Velocities\n",
    "vx = rxr.open_rasterio(velocity_fn[0])[0,:,:]\n",
    "vy = rxr.open_rasterio(velocity_fn[1])[0,:,:]\n",
    "vz=vy.copy()\n",
    "vz.values=np.zeros(np.shape(vy.values))\n",
    "speed=np.sqrt(vx**2+vy**2)\n",
    "\n",
    "### Glacial geometry\n",
    "ice_bed_props = rxr.open_rasterio(ice_info_fn[0])\n",
    "thickness = ice_bed_props['thickness'][0,:,:]\n",
    "bed = ice_bed_props['bed'][0,:,:]\n",
    "surface = ice_bed_props['surface'][0,:,:]\n",
    "\n",
    "### Climate forcings\n",
    "geothermal = xr.open_rasterio(geothermal_fn[0])[0,:,:]/1000\n",
    "racmo = xr.open_dataset(racmo_fn[0])\n",
    "surftemp = racmo['T2m_avg']\n",
    "SMB = racmo['SMB_avg']"
   ]
  },
  {
   "cell_type": "code",
   "execution_count": null,
   "id": "64c3b39f-25d1-4f4b-849f-a24f51bfde5d",
   "metadata": {
    "tags": []
   },
   "outputs": [],
   "source": [
    "Q = firedrake.FunctionSpace(mesh, family='CG', degree=2, vfamily='R', vdegree=0)\n",
    "V = firedrake.VectorFunctionSpace(mesh, family='CG', degree=2, vfamily='GL', vdegree=2)\n",
    "\n",
    "h0 = icepack.interpolate_xr(thickness, Q)\n",
    "s0 = icepack.interpolate_xr(surface, Q)\n",
    "b = icepack.interpolate_xr(bed, Q)\n",
    "u0 = icepack.interpolate_xr((vx, vy), V)\n",
    "gt0 = icepack.interpolate_xr(geothermal, Q)\n",
    "st0 = icepack.interpolate_xr(surftemp, Q)\n",
    "\n",
    "#q = firedrake.FunctionSpace(mesh2d, family='CG', degree=2)\n",
    "#v = firedrake.VectorFunctionSpace(mesh2d, family='CG', degree=2)\n",
    "\n",
    "#h0_2d = icepack.interpolate_xr(thickness, q)\n",
    "#gt0_2d = icepack.interpolate_xr(geothermal, q)\n",
    "#st_2d = icepack.interpolate_xr(surftemp, q)\n",
    "#u0_2d = icepack.interpolate_xr((vx, vy), v)"
   ]
  },
  {
   "cell_type": "markdown",
   "id": "19b27be4-a541-412e-b00c-fd3379a58c93",
   "metadata": {},
   "source": [
    "### Plotting Functions"
   ]
  },
  {
   "cell_type": "code",
   "execution_count": null,
   "id": "ec0d9d22-e46a-4955-8a50-af78c3788414",
   "metadata": {},
   "outputs": [],
   "source": [
    "def subplots(*args, **kwargs):\n",
    "    zoom = kwargs.get(\"zoom\",0)\n",
    "    fig, ax = plt.subplots(figsize=[8,8])\n",
    "    im1=ax.imshow(hs['hillshade'].values,extent=[hs['x'].values.min(),hs['x'].values.max(),hs['y'].values.min(),hs['y'].values.max()],cmap='Greys_r', vmin=0,vmax=200,origin='upper')\n",
    "    plt.ticklabel_format(style='sci', axis='x', scilimits=(0,0))\n",
    "    \n",
    "    if zoom == -1:\n",
    "        ax.set_ylim([-1.6e6,-1e6]);\n",
    "        ax.set_xlim([-0.325e6,0.1e6]);\n",
    "    elif zoom == 0:\n",
    "        ax.set_ylim([-1.55e6,-.9e6]);\n",
    "        ax.set_xlim([-0.3e6,0.05e6]);\n",
    "    elif zoom == 1:\n",
    "        ax.set_ylim(-1.1e6,-0.9e6);\n",
    "        ax.set_xlim(-3e5,-1.5e5);\n",
    "\n",
    "    ax.set_aspect('equal')\n",
    "    \n",
    "    return fig, ax"
   ]
  },
  {
   "cell_type": "code",
   "execution_count": null,
   "id": "868a8b80-4d32-4528-b3c7-07b42e90402e",
   "metadata": {},
   "outputs": [],
   "source": [
    "fig,ax=subplots()\n",
    "colors = firedrake.tripcolor(icepack.depth_average(st0),axes=ax,vmin=250,vmax=258,cmap='coolwarm');\n",
    "plt.colorbar(colors);\n",
    "ax.set_title(\"Surface Temperature\");"
   ]
  },
  {
   "cell_type": "code",
   "execution_count": null,
   "id": "8e1ebac3-460b-460a-86ba-a7401835be6e",
   "metadata": {},
   "outputs": [],
   "source": [
    "def flowline_search(sl,len_z,var):\n",
    "    xs=sl.T[0]\n",
    "    ys=sl.T[1]\n",
    "    ζs=np.linspace(0.001,0.999,len_z)\n",
    "\n",
    "    x_coords_grid, ζ_coords_grid = np.meshgrid(xs,ζs)\n",
    "    y_coords_grid = np.tile(ys,(len(ζs),1))\n",
    "\n",
    "    orig_size = x_coords_grid.shape\n",
    "    x_coords_vec = np.reshape(x_coords_grid,[1,np.prod(orig_size)])\n",
    "    y_coords_vec = np.reshape(y_coords_grid,[1,np.prod(orig_size)])\n",
    "    ζ_coords_vec = np.reshape(ζ_coords_grid,[1,np.prod(orig_size)])\n",
    "\n",
    "    coord_list = np.concatenate([x_coords_vec,y_coords_vec,ζ_coords_vec]).T\n",
    "    \n",
    "    var_extract = []\n",
    "    for i in coord_list:\n",
    "        var_extract.append(var.at(i[0],i[1],i[2]))\n",
    "            \n",
    "    var_extract_vec = np.array(var_extract)\n",
    "    var_extract_grid = np.reshape(var_extract,orig_size)\n",
    "    \n",
    "    return(var_extract_grid, x_coords_grid, y_coords_grid, ζ_coords_grid)\n",
    "\n",
    "def glacier_plot(sl_dist,surf,bed,thick,dist_coords_grid,z_coords_grid,var_coords_grid,**kwargs):\n",
    "    vmin = kwargs.get(\"vmin\")\n",
    "    vmax = kwargs.get(\"vmax\")\n",
    "    cmap = kwargs.get(\"cmap\")\n",
    "    \n",
    "    \n",
    "    fig,ax = plt.subplots(figsize=(10,5))\n",
    "\n",
    "    cdata = ax.pcolor(dist_coords_grid,z_coords_grid,var_coords_grid,vmin=vmin,vmax=vmax,cmap=cmap)\n",
    "    cbar = plt.colorbar(cdata)\n",
    "    ax.plot(sl_dist,surf,c='black')\n",
    "    ax.plot(sl_dist,bed,c='black')\n",
    "    ax.plot(sl_dist,surf-thick,c='black')\n",
    "\n",
    "    ax.set_xlabel('Distance Along Glacier (m)')\n",
    "    ax.set_ylabel('Elevation (m)')\n",
    "    return fig, ax\n",
    "\n",
    "### Make base datasets for Petermann streamline\n",
    "len_z=30\n",
    "z_opts=np.linspace(0.001,0.999,len_z)\n",
    "\n",
    "sl_dist = flowline['linedist'][0].values\n",
    "dist_coords_grid = np.tile(sl_dist,(len_z,1))\n",
    "\n",
    "b_sl, x_coords_grid, y_coords_grid, ζ_coords_grid = flowline_search(line,len_z,b)\n",
    "s_sl, x_coords_grid, y_coords_grid, ζ_coords_grid = flowline_search(line,len_z,s0)\n",
    "h_sl, x_coords_grid, y_coords_grid, ζ_coords_grid = flowline_search(line,len_z,h0)\n",
    "gt_sl, x_coords_grid, y_coords_grid, ζ_coords_grid = flowline_search(line,len_z,gt0)\n",
    "st_sl, x_coords_grid, y_coords_grid, ζ_coords_grid = flowline_search(line,len_z,st0)\n",
    "\n",
    "surf = s_sl[0,:]\n",
    "bed = b_sl[0,:]\n",
    "thick = h_sl[0,:]\n",
    "\n",
    "z_coords_grid = np.tile(surf,(len_z,1))-np.matmul(np.matrix(z_opts).T,np.matrix(thick))\n",
    "\n",
    "glacier_plot(sl_dist,surf,bed,thick,dist_coords_grid,z_coords_grid,gt_sl)"
   ]
  },
  {
   "cell_type": "markdown",
   "id": "08def028-0351-472e-b81a-0ee0065dd922",
   "metadata": {
    "tags": []
   },
   "source": [
    "## Modeling"
   ]
  },
  {
   "cell_type": "code",
   "execution_count": null,
   "id": "bf8ee6da-bf27-497c-b99c-9175dabf666a",
   "metadata": {},
   "outputs": [],
   "source": [
    "from icepack.constants import (\n",
    "    ice_density as ρ_I,\n",
    "    year as year,\n",
    "    thermal_diffusivity as α,\n",
    "    heat_capacity as c,\n",
    "    latent_heat as L,\n",
    "    melting_temperature as Tm)\n",
    "\n",
    "### Initial guess of the glacier temperature\n",
    "ice_t = firedrake.Constant(200)\n",
    "f = firedrake.Constant(0.)\n",
    "\n",
    "def energy(T,f):\n",
    "    return(917 * c * T + 917 * L * f)\n",
    "\n",
    "E_surf = firedrake.interpolate(energy(st0,f), Q)\n",
    "E_geo = gt0\n",
    "\n",
    "fig,ax=subplots()\n",
    "col=firedrake.tripcolor(icepack.depth_average(E_geo),axes=ax)\n",
    "plt.colorbar(col)"
   ]
  },
  {
   "cell_type": "code",
   "execution_count": null,
   "id": "b3efa23a-569d-41e4-902d-b5a46b75d856",
   "metadata": {},
   "outputs": [],
   "source": [
    "heat_model = icepack.models.HeatTransport3D()\n",
    "heat_solver = icepack.solvers.HeatTransportSolver(heat_model)\n",
    "\n",
    "#Δ = firedrake.FunctionSpace(mesh, family='DG', degree=1)\n",
    "#E = firedrake.Function(Δ)"
   ]
  },
  {
   "cell_type": "code",
   "execution_count": null,
   "id": "7ea38f5c-98ec-4627-a688-ae1a122f6d95",
   "metadata": {},
   "outputs": [],
   "source": [
    "import tqdm\n",
    "final_time = 400.\n",
    "num_timesteps = 400\n",
    "dt = final_time / num_timesteps\n",
    "\n",
    "E_0 = firedrake.interpolate(energy(ice_t,f), Q)\n",
    "E = E_0.copy(deepcopy=True)\n",
    "\n",
    "Es=[E_0]\n",
    "\n",
    "for step in tqdm.trange(num_timesteps):\n",
    "    E = heat_solver.solve(\n",
    "        dt=dt,\n",
    "        energy=E,\n",
    "        velocity=u0,\n",
    "        vertical_velocity=firedrake.Constant(0.),\n",
    "        thickness=h0,\n",
    "        energy_inflow=firedrake.Constant(0.),\n",
    "        energy_surface=E_surf,\n",
    "        heat_bed=gt0,\n",
    "        heat=firedrake.Constant(0.)\n",
    "    )\n",
    "    Es.append(E)\n",
    "    "
   ]
  },
  {
   "cell_type": "markdown",
   "id": "75612b60-afe3-4a92-8d7d-9230730bb041",
   "metadata": {},
   "source": [
    "## Analysis"
   ]
  },
  {
   "cell_type": "code",
   "execution_count": null,
   "id": "87dffe79-6a4e-4846-a836-1e5c6ab30117",
   "metadata": {},
   "outputs": [],
   "source": [
    "import NDH_Tools as ndh"
   ]
  },
  {
   "cell_type": "code",
   "execution_count": null,
   "id": "a52b9d9b-04f0-45f3-a6bb-430a4edc447d",
   "metadata": {},
   "outputs": [],
   "source": [
    "temp=firedrake.interpolate(heat_model.temperature(E),Q)\n",
    "fig,ax=subplots()\n",
    "colors = firedrake.tripcolor(icepack.depth_average(temp),axes=ax,cmap='coolwarm',vmin=250,vmax=273);\n",
    "plt.colorbar(colors);\n",
    "ax.set_title(\"Temperature (K)\");\n",
    "ax.plot(flowline['x_pol'][0],flowline['y_pol'][0],'orange');"
   ]
  },
  {
   "cell_type": "code",
   "execution_count": null,
   "id": "c65100ba-3fcc-4d90-9a8e-56344757e184",
   "metadata": {},
   "outputs": [],
   "source": [
    "temp=firedrake.interpolate(heat_model.temperature(Es[3]),Q)\n",
    "temp_sl, x_coords_grid, y_coords_grid, ζ_coords_grid = flowline_search(line,len_z,temp)\n",
    "fig,ax=glacier_plot(sl_dist,surf,bed,thick,dist_coords_grid,z_coords_grid,temp_sl)"
   ]
  },
  {
   "cell_type": "code",
   "execution_count": null,
   "id": "e821b208-915f-40d7-810a-c8316a8cf920",
   "metadata": {},
   "outputs": [],
   "source": [
    "writer = ndh.generate_animation(5,'Slices')\n",
    "videoname1 = 'Evolution_temp_sl.mp4'\n",
    "\n",
    "fig, axes = plt.subplots(figsize=(10,6))\n",
    "axes.set_xlabel('Distance Along Glacier (m)')\n",
    "axes.set_ylabel('Elevation (m)')\n",
    "axes.set_title('Temperature Evolution (K)')\n",
    "with writer.saving(fig, videoname1, 100):\n",
    "    for i in Es[::20]:\n",
    "        temp=firedrake.interpolate(heat_model.temperature(i),Q)\n",
    "        temp_sl, x_coords_grid, y_coords_grid, ζ_coords_grid = flowline_search(line,len_z,temp)\n",
    "        cdata = axes.pcolor(dist_coords_grid,z_coords_grid,temp_sl,vmin=250,vmax=270,cmap='coolwarm')\n",
    "        cbar = plt.colorbar(cdata)\n",
    "        l1=axes.plot(sl_dist,surf,c='black')\n",
    "        l2=axes.plot(sl_dist,bed,c='black')\n",
    "        l3=axes.plot(sl_dist,surf-thick,c='black')\n",
    "\n",
    "        writer.grab_frame()\n",
    "        \n",
    "        cbar.remove()\n",
    "        l1.pop(0).remove()\n",
    "        l2.pop(0).remove()\n",
    "        l3.pop(0).remove()\n",
    "        cdata.remove();"
   ]
  },
  {
   "cell_type": "code",
   "execution_count": null,
   "id": "ea6381d6-ffa6-454d-9f60-26ff27964f8d",
   "metadata": {},
   "outputs": [],
   "source": [
    "videoname1 = 'Evolution_temp_sl.mp4'\n",
    "ndh.show_video(videoname1)"
   ]
  },
  {
   "cell_type": "code",
   "execution_count": null,
   "id": "a3b1970a-df8a-4932-a575-6f0d7691e691",
   "metadata": {},
   "outputs": [],
   "source": [
    "writer = ndh.generate_animation(5,'Slices')\n",
    "videoname2 = 'Evolution_temp_plane.mp4'\n",
    "\n",
    "fig, axes = subplots()\n",
    "axes.set_title('Temperature Evolution (K)')\n",
    "with writer.saving(fig, videoname, 100):\n",
    "    for i in Es[::25]:\n",
    "        temp=firedrake.interpolate(heat_model.temperature(i),Q)\n",
    "        cdata = firedrake.tripcolor(icepack.depth_average(temp),axes=ax,cmap='coolwarm',vmin=250,vmax=273);\n",
    "        cbar=plt.colorbar(colors);\n",
    "\n",
    "        writer.grab_frame()\n",
    "        \n",
    "        cbar.remove()\n",
    "        cdata.remove();"
   ]
  },
  {
   "cell_type": "code",
   "execution_count": null,
   "id": "bd4d00b6-6ddb-4e1c-8f5c-038946eb78be",
   "metadata": {},
   "outputs": [],
   "source": [
    "ndh.show_video(videoname2)"
   ]
  },
  {
   "cell_type": "code",
   "execution_count": null,
   "id": "b2df56c5-e536-4bc5-b46c-daadbddd677a",
   "metadata": {},
   "outputs": [],
   "source": [
    "import sys\n",
    "working_dir = '/mnt/data01/User_Scratch/wdienstfrey24/WJD_tools/'\n",
    "sys.path.append(working_dir)\n",
    "from MyTools import streamline_coords\n",
    "from FiredrakeTools import glacier_z_coords, glacier_plot"
   ]
  },
  {
   "cell_type": "code",
   "execution_count": null,
   "id": "0209b801-e4ff-443d-87f7-91fe8eb4754d",
   "metadata": {},
   "outputs": [],
   "source": [
    "### Pick a seed point\n",
    "fig,ax=subplots()\n",
    "colors = firedrake.tripcolor(icepack.depth_average(u0),axes=ax,vmin=0,vmax=300);\n",
    "plt.colorbar(colors);\n",
    "ax.set_title(\"Speed\");"
   ]
  },
  {
   "cell_type": "code",
   "execution_count": null,
   "id": "d88e8b07-973f-49f5-8214-93be8900ccaa",
   "metadata": {},
   "outputs": [],
   "source": [
    "### Use seed point to make streamline and get coordinates with streamline_coords function from WJD_tools\n",
    "stpt = np.array([-1e5,-1.2e6])\n",
    "sl = streamline_coords(vx['x'].values,np.flipud(vx['y'].values),np.flipud(vx.values),np.flipud(vy.values),stpt);\n",
    "sl2 = ndh.calculate_flowlines(vx['x'].values,np.flipud(vx['y'].values),np.flipud(vx.values),np.flipud(vy.values),stpt,max_error=0.1)\n",
    "\n",
    "fig,ax=subplots()\n",
    "colors = firedrake.tripcolor(icepack.depth_average(u0),axes=ax,vmin=0,vmax=300);\n",
    "plt.colorbar(colors);\n",
    "ax.plot(sl.T[0],sl.T[1],'o')\n",
    "ax.plot(sl2[0][:,0],sl2[0][:,1])\n",
    "ax.set_title(\"Speed\");"
   ]
  },
  {
   "cell_type": "code",
   "execution_count": null,
   "id": "d97a5748-2ca5-4909-9598-220779ee9ebc",
   "metadata": {},
   "outputs": [],
   "source": [
    "fig,ax=subplots()\n",
    "\n",
    "start=16353\n",
    "stop=16468\n",
    "\n",
    "colors = firedrake.tripcolor(icepack.depth_average(u0),axes=ax,vmin=0,vmax=300);\n",
    "plt.colorbar(colors);\n",
    "#ax.plot(sl.T[0],sl.T[1],'o')\n",
    "ax.plot(sl2[0][:,0][start:stop],sl2[0][:,1][start:stop])\n",
    "ax.set_title(\"Speed\");"
   ]
  },
  {
   "cell_type": "code",
   "execution_count": null,
   "id": "31c7f57d-c4b8-4781-8756-c0e3c78c0abf",
   "metadata": {},
   "outputs": [],
   "source": [
    "search_ln = sl2[0][start:stop]\n",
    "\n",
    "### Remove duplicates and fill in line\n",
    "xs=[]\n",
    "sl_sub=[]\n",
    "for i in search_ln:\n",
    "    if i[0] not in xs:\n",
    "        sl_sub.append(i)\n",
    "        xs.append(i[0])\n",
    "        \n",
    "sl_sub=ndh.line_fill(np.array(sl_sub).T,1000,1).T\n",
    "\n",
    "fig,ax=subplots()\n",
    "\n",
    "colors = firedrake.tripcolor(icepack.depth_average(u0),axes=ax,vmin=0,vmax=300);\n",
    "plt.colorbar(colors);\n",
    "#ax.plot(sl.T[0],sl.T[1],'o')\n",
    "ax.plot(sl_sub.T[0],sl_sub.T[1])\n",
    "ax.set_title(\"Flowline Subselection\")"
   ]
  }
 ],
 "metadata": {
  "kernelspec": {
   "display_name": "firedrake",
   "language": "python",
   "name": "firedrake"
  },
  "language_info": {
   "codemirror_mode": {
    "name": "ipython",
    "version": 3
   },
   "file_extension": ".py",
   "mimetype": "text/x-python",
   "name": "python",
   "nbconvert_exporter": "python",
   "pygments_lexer": "ipython3",
   "version": "3.8.10"
  }
 },
 "nbformat": 4,
 "nbformat_minor": 5
}
