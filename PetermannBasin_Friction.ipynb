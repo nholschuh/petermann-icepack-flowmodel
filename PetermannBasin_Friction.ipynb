{
 "cells": [
  {
   "cell_type": "markdown",
   "id": "5bda5879-f451-4508-8abc-b94183d20460",
   "metadata": {},
   "source": [
    "# Petermann 3D Friction Inverse\n",
    "\n",
    "Use the outline created in PetermannOutline to run an inverse problem solving for the basal friction that minimizes the misfit between the modeled and observed velocities"
   ]
  },
  {
   "cell_type": "markdown",
   "id": "246d291e-85e2-4da3-9c28-01998124b7cf",
   "metadata": {
    "tags": []
   },
   "source": [
    "## Setup\n",
    "\n",
    "Load in mesh and pull raster data"
   ]
  },
  {
   "cell_type": "code",
   "execution_count": null,
   "id": "41502348-211a-46c7-91c0-cbc8d40afa3e",
   "metadata": {},
   "outputs": [],
   "source": [
    "import sys \n",
    "import glob\n",
    "import os\n",
    "\n",
    "import matplotlib.pyplot as plt\n",
    "import numpy as np\n",
    "\n",
    "import rioxarray as rxr\n",
    "import xarray as xr\n",
    "import rasterio\n",
    "\n",
    "import geojson\n",
    "\n",
    "import firedrake\n",
    "import icepack\n",
    "import icepack.plot"
   ]
  },
  {
   "cell_type": "markdown",
   "id": "30c96177-dc68-4b8a-b05d-4563f90f2a85",
   "metadata": {},
   "source": [
    "### Mesh"
   ]
  },
  {
   "cell_type": "code",
   "execution_count": null,
   "id": "fc2c6100-1587-4562-afca-2ca419406320",
   "metadata": {},
   "outputs": [],
   "source": [
    "outline_fn = 'petermann_streamlines_evenspace_full.geojson'\n",
    "fn=outline_fn.split('.')[0]\n",
    "\n",
    "with open(outline_fn, 'r') as outline_file:\n",
    "    outline = geojson.load(outline_file)"
   ]
  },
  {
   "cell_type": "code",
   "execution_count": null,
   "id": "f2f25e58-4383-4048-8baf-c6ea7f363ce8",
   "metadata": {},
   "outputs": [],
   "source": [
    "if os.path.isfile(fn+'.msh'):\n",
    "    pass\n",
    "else:\n",
    "    geometry = icepack.meshing.collection_to_geo(outline)\n",
    "\n",
    "    with open('petermann_streamline_evenspace_full.geo', 'w') as geo_file:\n",
    "        geo_file.write(geometry.get_code())\n",
    "        \n",
    "    !gmsh -2 -format msh2 -v 2 -o petermann_streamline_evenspace_full.msh petermann_streamline_evenspace_full.geo;"
   ]
  },
  {
   "cell_type": "code",
   "execution_count": null,
   "id": "a6d1aa1c-4f1c-4b05-aeb5-c0109bbc75e0",
   "metadata": {},
   "outputs": [],
   "source": [
    "mesh2d = firedrake.Mesh(fn+'.msh')\n",
    "mesh = firedrake.ExtrudedMesh(mesh2d, layers=1)"
   ]
  },
  {
   "cell_type": "markdown",
   "id": "b272381e-1018-478b-9bc5-926fd7b730d0",
   "metadata": {},
   "source": [
    "### Load/Interpolate Raster Data"
   ]
  },
  {
   "cell_type": "markdown",
   "id": "ab4e07af-c3c4-4bf8-8bb3-847fc4fb8b57",
   "metadata": {},
   "source": [
    "#### Reading Data\n",
    "Here, you should define root_ddir as the directory containing the BedMachine, MEaSUREs, hillshade, and climate forcing files\n",
    "All files except BedMachine can be found [here](https://drive.google.com/drive/folders/1vSetbOF5Iy26ETMAF_-VXlrqotyp_3EO?usp=sharing).\n",
    "BedMachine and other file sources can be found here:\n",
    "- [BedMachine](https://nsidc.org/data/idbmg4/versions/5)\n",
    "- [MEaSUREs](https://nsidc.org/grimp)\n",
    "- [Martos Geothermal heat flux](https://doi.pangaea.de/10.1594/PANGAEA.892973?format=html#download)\n",
    "- [RACMO2 Surface Temperature/Surface Mass Balance](https://doi.org/10.5194/tc-10-2361-2016) (Need to email author Brice Noel for dataset)\n",
    "- [Hillshade](https://drive.google.com/drive/folders/1vSetbOF5Iy26ETMAF_-VXlrqotyp_3EO?usp=sharing) (creator is Nicholas Holchuh)\n"
   ]
  },
  {
   "cell_type": "code",
   "execution_count": null,
   "id": "53e1ffcf-ae0c-4d89-abad-399cc26b89bc",
   "metadata": {},
   "outputs": [],
   "source": [
    "### Reading Data\n",
    "### Here, you should define root_ddir as the directory containing the BedMachine, MEaSUREs, hillshade, and climate forcing files\n",
    "\n",
    "root_ddir = '/mnt/data01/Data/'\n",
    "\n",
    "velocity_fn = glob.glob(root_ddir+'*vel*.nc')\n",
    "ice_info_fn = glob.glob(root_ddir+'*BedMachine*.nc')\n",
    "hillshade_fn = glob.glob(root_ddir+'*Hillshade*.nc') \n",
    "geothermal_fn = glob.glob(root_ddir+'*Martos*.nc')\n",
    "racmo_fn = glob.glob(root_ddir+'*RACMO*.nc')\n",
    "\n",
    "### Hillshade\n",
    "hs = xr.open_dataset(hillshade_fn[0])\n",
    "\n",
    "### Velocities\n",
    "vx = rxr.open_rasterio(velocity_fn[0])[0,:,:]\n",
    "vy = rxr.open_rasterio(velocity_fn[1])[0,:,:]\n",
    "vz=vy.copy()\n",
    "vz.values=np.zeros(np.shape(vy.values))\n",
    "speed=np.sqrt(vx**2+vy**2)\n",
    "\n",
    "### Glacial geometry\n",
    "ice_bed_props = rxr.open_rasterio(ice_info_fn[0])\n",
    "thickness = ice_bed_props['thickness'][0,:,:]\n",
    "bed = ice_bed_props['bed'][0,:,:]\n",
    "surface = ice_bed_props['surface'][0,:,:]\n",
    "\n",
    "### Climate forcings\n",
    "geothermal = xr.open_rasterio(geothermal_fn[0])[0,:,:]/1000\n",
    "racmo = xr.open_dataset(racmo_fn[0])\n",
    "surftemp = racmo['T2m_avg']\n",
    "SMB = racmo['SMB_avg']"
   ]
  },
  {
   "cell_type": "code",
   "execution_count": null,
   "id": "32cf1a8c-e4a5-4b7e-b5f6-7592e664bc05",
   "metadata": {
    "tags": []
   },
   "outputs": [],
   "source": [
    "Q = firedrake.FunctionSpace(mesh, family='CG', degree=2, vfamily='R', vdegree=0)\n",
    "V = firedrake.VectorFunctionSpace(mesh, family='CG', dim=2, degree=2, vfamily='GL', vdegree=2)\n",
    "\n",
    "h0 = icepack.interpolate_xr(thickness, Q)\n",
    "s0 = icepack.interpolate_xr(surface, Q)\n",
    "b = icepack.interpolate_xr(bed, Q)\n",
    "u0 = icepack.interpolate_xr((vx, vy), V)\n",
    "\n",
    "#q = firedrake.FunctionSpace(mesh2d, family='CG', degree=2)\n",
    "#v = firedrake.VectorFunctionSpace(mesh2d, family='CG', degree=2)\n",
    "\n",
    "#h0_2d = icepack.interpolate_xr(thickness, q)\n",
    "#s0_2d = icepack.interpolate_xr(surface, q)\n",
    "#b_2d = icepack.interpolate_xr(bed, q)\n",
    "#u0_2d = icepack.interpolate_xr((vx, vy), v)"
   ]
  },
  {
   "cell_type": "code",
   "execution_count": null,
   "id": "f3b62374-df0e-4f27-a376-4afafd5453e3",
   "metadata": {},
   "outputs": [],
   "source": [
    "### Reading data\n",
    "root_ddir = '/mnt/data01/Data/'\n",
    "\n",
    "velocity_fn = glob.glob(root_ddir+'Greenland_Velocity/*.nc')\n",
    "ice_info_fn = glob.glob(root_ddir+'Greenland_BedElevation/*.nc')[0]\n",
    "hillshade_fn = glob.glob(root_ddir+'Greenland_Imagery/*.nc') \n",
    "hs = xr.open_dataset(hillshade_fn[0])\n",
    "\n",
    "vx = rxr.open_rasterio(velocity_fn[0])[0,:,:]\n",
    "vy = rxr.open_rasterio(velocity_fn[1])[0,:,:]\n",
    "vz=vy.copy()\n",
    "vz.values=np.zeros(np.shape(vy.values))\n",
    "\n",
    "ice_bed_props = rxr.open_rasterio(ice_info_fn)\n",
    "thickness = ice_bed_props['thickness'][0,:,:]\n",
    "surface = ice_bed_props['surface'][0,:,:]\n",
    "bed = ice_bed_props['bed'][0,:,:]"
   ]
  },
  {
   "cell_type": "code",
   "execution_count": null,
   "id": "5d3762df-1a78-4a3a-9f33-616cc34dd9c5",
   "metadata": {
    "tags": []
   },
   "outputs": [],
   "source": [
    "Q = firedrake.FunctionSpace(mesh, family='CG', degree=2, vfamily='R', vdegree=0)\n",
    "V = firedrake.VectorFunctionSpace(mesh, family='CG', dim=2, degree=2, vfamily='GL', vdegree=2)\n",
    "\n",
    "q = firedrake.FunctionSpace(mesh2d, family='CG', degree=2)\n",
    "v = firedrake.VectorFunctionSpace(mesh2d, family='CG', degree=2)\n",
    "\n",
    "h0 = icepack.interpolate_xr(thickness, Q)\n",
    "s0 = icepack.interpolate_xr(surface, Q)\n",
    "b = icepack.interpolate_xr(bed, Q)\n",
    "u0 = icepack.interpolate_xr((vx, vy), V)\n",
    "\n",
    "#h0_2d = icepack.interpolate_xr(thickness, q)\n",
    "#s0_2d = icepack.interpolate_xr(surface, q)\n",
    "#b_2d = icepack.interpolate_xr(bed, q)\n",
    "#u0_2d = icepack.interpolate_xr((vx, vy), v)"
   ]
  },
  {
   "cell_type": "markdown",
   "id": "0fa497f4-e907-4d10-86ed-15831205c8c5",
   "metadata": {},
   "source": [
    "### Plotting Functions"
   ]
  },
  {
   "cell_type": "code",
   "execution_count": null,
   "id": "497ff9b5-20e1-4c28-8975-a4f509d04f33",
   "metadata": {},
   "outputs": [],
   "source": [
    "def subplots(*args, **kwargs):\n",
    "    zoom = kwargs.get(\"zoom\",0)\n",
    "    figsize = kwargs.get(\"figsize\",(8,8))\n",
    "    \n",
    "    fig, ax = plt.subplots(figsize=figsize)\n",
    "    im1=ax.imshow(hs['hillshade'].values,\n",
    "                  extent=[hs['x'].values.min(),hs['x'].values.max(),hs['y'].values.min(),hs['y'].values.max()],\n",
    "                  cmap='Greys_r', vmin=0,vmax=200,origin='upper')\n",
    "    plt.ticklabel_format(style='sci', axis='x', scilimits=(0,0))\n",
    "    \n",
    "    if zoom == -1:\n",
    "        ax.set_ylim([-1.6e6,-1e6]);\n",
    "        ax.set_xlim([-0.325e6,0.1e6]);\n",
    "    elif zoom == 0:\n",
    "        ax.set_ylim([-1.55e6,-.9e6]);\n",
    "        ax.set_xlim([-0.3e6,0.05e6]);\n",
    "    elif zoom == 1:\n",
    "        ax.set_ylim(-1.1e6,-0.9e6);\n",
    "        ax.set_xlim(-3e5,-1.5e5);\n",
    "\n",
    "    ax.set_aspect('equal')\n",
    "    \n",
    "    return fig, ax"
   ]
  },
  {
   "cell_type": "code",
   "execution_count": null,
   "id": "da5026f1-77b6-4e9c-bdf8-58500d143693",
   "metadata": {},
   "outputs": [],
   "source": [
    "fig,ax = subplots(zoom=0)\n",
    "kwargs = {\n",
    "    'interior_kw': {'linewidth': .25},\n",
    "    'boundary_kw': {'linewidth': 2}\n",
    "}\n",
    "icepack.plot.triplot(mesh2d, axes=ax, **kwargs);\n",
    "ax.legend();"
   ]
  },
  {
   "cell_type": "markdown",
   "id": "a401f44d-da33-4600-90d6-258d31f9cbd0",
   "metadata": {},
   "source": [
    "## Modeling"
   ]
  },
  {
   "cell_type": "code",
   "execution_count": null,
   "id": "6b0831c4-8425-4eaf-8b4f-e1893313d2da",
   "metadata": {},
   "outputs": [],
   "source": [
    "T = firedrake.Constant(260)\n",
    "A = icepack.rate_factor(T)"
   ]
  },
  {
   "cell_type": "markdown",
   "id": "151f0e57-c102-4fc5-9d49-7a349725e326",
   "metadata": {},
   "source": [
    "### Friction Inverse\n",
    "\n",
    "Use the InverseProblem class to solve for the basal friction from misfit between the modeled and observed velocity, first find a smoothed out driving stress over the domain"
   ]
  },
  {
   "cell_type": "code",
   "execution_count": null,
   "id": "ed413c65-d61b-42f8-9fe9-f5ebd249d4c6",
   "metadata": {},
   "outputs": [],
   "source": [
    "from icepack.constants import (\n",
    "    ice_density as ρ_I,\n",
    "    water_density as ρ_W,\n",
    "    gravity as g,\n",
    "    weertman_sliding_law as m\n",
    ")\n",
    "from firedrake import Constant, sqrt, inner, grad, dx\n",
    "\n",
    "α = Constant(10e3)\n",
    "τ = firedrake.Function(V)\n",
    "τ_d = -ρ_I * g * h0 *firedrake.as_vector([grad(s0)[0],grad(s0)[1]])\n",
    "misfit = 0.5 * inner(τ - τ_d, τ - τ_d) * dx\n",
    "smoothness = 0.5 * α ** 2 * inner(grad(τ), grad(τ)) * dx\n",
    "J = misfit + smoothness\n",
    "F = firedrake.derivative(J, τ)\n",
    "firedrake.solve(F == 0, τ)"
   ]
  },
  {
   "cell_type": "code",
   "execution_count": null,
   "id": "7c2dcbf4-d34c-4a75-9a43-969e1b60d092",
   "metadata": {},
   "outputs": [],
   "source": [
    "from firedrake import sqrt, tr\n",
    "\n",
    "#effective_stress = firedrake.project(1e3 * sqrt(inner(τ_d, τ_d) + tr(τ_d)**2), Q)\n",
    "\n",
    "effective_stress = firedrake.interpolate(τ_d,V)\n",
    "fig,ax = subplots()\n",
    "colors = icepack.plot.tripcolor(icepack.depth_average(effective_stress), axes=ax)\n",
    "fig.colorbar(colors, label='kPa');"
   ]
  },
  {
   "cell_type": "markdown",
   "id": "80bebc72-16b4-4ba0-bde7-a869c9e3d233",
   "metadata": {},
   "source": [
    "Calculate a rough, constant estimate of the friction coefficient `C0` (estimate basal friction coefficient takes up half the driving stress, set coefficient to 0 for floating ice)"
   ]
  },
  {
   "cell_type": "code",
   "execution_count": null,
   "id": "e8c34aa6-60f1-42ee-aa86-abe4bbe9e6f0",
   "metadata": {},
   "outputs": [],
   "source": [
    "p_W = ρ_W * g * firedrake.max_value(0, h0 - s0)\n",
    "p_I = ρ_I * g * h0\n",
    "ϕ = 1 - p_W / p_I\n",
    "C_est = sqrt(inner(τ, τ)) / sqrt(inner(u0, u0))\n",
    "fraction = Constant(0.5)\n",
    "\n",
    "expr = ϕ * fraction * C_est ** (1 / m)\n",
    "\n",
    "C_0 = firedrake.interpolate(expr, Q)\n",
    "area = firedrake.assemble(Constant(1.0) * dx(mesh))\n",
    "C_0 = Constant(firedrake.assemble(C_0 * dx) / area)\n",
    "\n",
    "pw = firedrake.interpolate(ϕ,Q)\n",
    "fig,ax = subplots()\n",
    "colors = icepack.plot.tripcolor(icepack.depth_average(pw), axes=ax)\n",
    "fig.colorbar(colors, label='meters');"
   ]
  },
  {
   "cell_type": "markdown",
   "id": "6d67a0ef-cc54-4c77-bec8-fd8965052b5c",
   "metadata": {},
   "source": [
    "Parametrize friction by exp(theta) to scale friction but keep positive"
   ]
  },
  {
   "cell_type": "code",
   "execution_count": null,
   "id": "13a27e03-dc3f-41b4-a96e-e7e0f5e5608d",
   "metadata": {},
   "outputs": [],
   "source": [
    "import icepack.models.hybrid\n",
    "def friction(**kwargs):\n",
    "    u = kwargs[\"velocity\"]\n",
    "    θ = kwargs[\"log_friction\"]\n",
    "    h0 = kwargs[\"thickness\"]\n",
    "    s0 = kwargs[\"surface\"]\n",
    "    \n",
    "    p_W = ρ_W * g * firedrake.max_value(0, h0 - s0)\n",
    "    p_I = ρ_I * g * firedrake.max_value(1,h0)\n",
    "    ϕ = 1 - p_W / p_I\n",
    "    \n",
    "    C = ϕ * C_0 * firedrake.exp(θ)\n",
    "    return icepack.models.friction.bed_friction(velocity=u, friction=C)"
   ]
  },
  {
   "cell_type": "code",
   "execution_count": null,
   "id": "5d97ed43-0fc2-4f7c-abdd-890095a466da",
   "metadata": {},
   "outputs": [],
   "source": [
    "model = icepack.models.HybridModel(friction=friction)\n",
    "degree = 4\n",
    "opts = {\n",
    "    \"dirichlet_ids\": [5,6,7,8],\n",
    "    \"side_wall_ids\": [1,3,4],\n",
    "    \"diagnostic_solver_type\": \"petsc\",\n",
    "    \"diagnostic_solver_parameters\": {\n",
    "        \"snes_type\": \"newtontr\",\n",
    "        \"ksp_type\": \"gmres\",\n",
    "        \"pc_type\": \"lu\",\n",
    "        \"pc_factor_mat_solver_type\": \"mumps\",\n",
    "    },\n",
    "    \"form_compiler_parameters\": {\n",
    "        \"quadrature_degree\": degree\n",
    "    }\n",
    "}\n",
    "solver = icepack.solvers.FlowSolver(model, **opts)"
   ]
  },
  {
   "cell_type": "code",
   "execution_count": null,
   "id": "aeb53259-fdc6-4b30-ad6a-a86ad3ba433f",
   "metadata": {},
   "outputs": [],
   "source": [
    "θ = firedrake.Function(Q)"
   ]
  },
  {
   "cell_type": "code",
   "execution_count": null,
   "id": "8badc9f5-96cd-480e-bb15-f152ee8bf21a",
   "metadata": {},
   "outputs": [],
   "source": [
    "u = solver.diagnostic_solve(\n",
    "    velocity=u0,\n",
    "    thickness=h0,\n",
    "    surface=s0,\n",
    "    fluidity=A,\n",
    "    log_friction=θ\n",
    ")"
   ]
  },
  {
   "cell_type": "code",
   "execution_count": null,
   "id": "f4712e80-455f-47c6-835a-91d0581d3573",
   "metadata": {},
   "outputs": [],
   "source": [
    "import icepack.plot\n",
    "def u_difference_plot(u0,u,**kwargs):\n",
    "    vmin1 = kwargs.get(\"vmin1\",0)\n",
    "    vmax1 = kwargs.get(\"vmax1\",1200)\n",
    "    vmin2 = kwargs.get(\"vmin2\",0)\n",
    "    vmax2 = kwargs.get(\"vmax2\",600)\n",
    "    vmin3 = kwargs.get(\"vmin3\",0)\n",
    "    vmax3 = kwargs.get(\"vmax3\",800)\n",
    "    \n",
    "    fig,ax = plt.subplots(1,3,figsize=(16,4))\n",
    "    im1=firedrake.tripcolor(icepack.depth_average(u0),axes=ax[0],vmin=vmin1,vmax=vmax1);\n",
    "    im2=firedrake.tripcolor(icepack.depth_average(u),axes=ax[1],vmin=vmin1,vmax=vmax2);\n",
    "    im3=firedrake.tripcolor(icepack.depth_average(firedrake.interpolate(u-u0,V)),vmin=vmin3,vmax=vmax3,axes=ax[2]);\n",
    "    \n",
    "    ax[0].ticklabel_format(style='sci', axis='x', scilimits=(0,0))\n",
    "    ax[1].ticklabel_format(style='sci', axis='x', scilimits=(0,0))\n",
    "    ax[2].ticklabel_format(style='sci', axis='x', scilimits=(0,0))\n",
    "    \n",
    "    plt.colorbar(im1,ax=ax[0])\n",
    "    plt.colorbar(im2,ax=ax[1])\n",
    "    plt.colorbar(im3,ax=ax[2])\n",
    "    \n",
    "    ax[0].set_ylabel('Velocity (m/s)');\n",
    "    ax[0].set_title('Observed Velocity');\n",
    "    ax[1].set_title('Modeled Velocity');\n",
    "    ax[2].set_title('Modeled-Observed');\n",
    "    \n",
    "    ax[0].set_xlabel('distance along centerline')\n",
    "    ax[1].set_xlabel('distance along centerline')\n",
    "    ax[2].set_xlabel('distance along centerline')\n",
    "    \n",
    "    return fig,ax\n",
    "    \n",
    "u_difference_plot(u0,u)"
   ]
  },
  {
   "cell_type": "markdown",
   "id": "94d41357-9a40-4573-a547-7595d4d6e31d",
   "metadata": {},
   "source": [
    "Define the simulation, loss functional, and the regularization functional for the `StatisticsProblem`"
   ]
  },
  {
   "cell_type": "code",
   "execution_count": null,
   "id": "76a8dea6-8849-4130-8072-54ce99809a5b",
   "metadata": {},
   "outputs": [],
   "source": [
    "def simulation(θ):\n",
    "    return solver.diagnostic_solve(\n",
    "        velocity=u0,\n",
    "        thickness=h0,\n",
    "        surface=s0,\n",
    "        fluidity=A,\n",
    "        log_friction=θ,\n",
    "    )\n",
    "\n",
    "σx = Constant(5.0)\n",
    "σy = Constant(5.0)\n",
    "def loss_functional(u):\n",
    "    δu = u - u0\n",
    "    return 0.5 / Constant(area) * ((δu[0] / σx)**2 + (δu[1] / σy)**2) * dx\n",
    "\n",
    "L = Constant(10e3)\n",
    "def regularization(θ):\n",
    "    return 0.5 * L**2 / Constant(area) * inner(grad(θ), grad(θ)) * dx"
   ]
  },
  {
   "cell_type": "code",
   "execution_count": null,
   "id": "310a9df3-e29b-45ef-a6c9-e8db22c947ee",
   "metadata": {},
   "outputs": [],
   "source": [
    "from icepack.statistics import StatisticsProblem, MaximumProbabilityEstimator\n",
    "\n",
    "problem = StatisticsProblem(\n",
    "    simulation=simulation,\n",
    "    loss_functional=loss_functional,\n",
    "    regularization=regularization,\n",
    "    controls=θ,\n",
    ")"
   ]
  },
  {
   "cell_type": "code",
   "execution_count": null,
   "id": "dcc8f27e-28fa-451e-81b2-3ff492a6d22c",
   "metadata": {
    "tags": []
   },
   "outputs": [],
   "source": [
    "estimator = MaximumProbabilityEstimator(\n",
    "    problem,\n",
    "    gradient_tolerance=1e-4,\n",
    "    step_tolerance=1e-1,\n",
    "    max_iterations=50,\n",
    "    verbose = 0\n",
    ")\n",
    "θ = estimator.solve()"
   ]
  },
  {
   "cell_type": "markdown",
   "id": "2906b9bb-7bb6-4d0d-9d80-57581a755491",
   "metadata": {},
   "source": [
    "## Analysis"
   ]
  },
  {
   "cell_type": "code",
   "execution_count": null,
   "id": "57219735-9f11-4f42-94d1-0d3d5f5b7558",
   "metadata": {},
   "outputs": [],
   "source": [
    "u = simulation(θ)\n",
    "opt_bed_friction = firedrake.interpolate(friction(velocity=u0, thickness=h0, surface=s0, log_friction=θ),Q)\n",
    "δu = firedrake.interpolate(sqrt(inner(u - u0, u - u0)), Q)"
   ]
  },
  {
   "cell_type": "code",
   "execution_count": null,
   "id": "0e4dc401-65c2-4ca4-b2da-0d7328d8cc3d",
   "metadata": {},
   "outputs": [],
   "source": [
    "fig, ax = subplots()\n",
    "colors = firedrake.tripcolor(icepack.depth_average(opt_bed_friction), vmin=0.07, vmax=0.085, axes=ax)\n",
    "fig.colorbar(colors);\n",
    "ax.set_title('Optimized Friction Coefficient');"
   ]
  },
  {
   "cell_type": "code",
   "execution_count": null,
   "id": "0dc7d07d-1939-4ffb-81ae-a870d9e0e359",
   "metadata": {},
   "outputs": [],
   "source": [
    "fig, ax = subplots()\n",
    "colors = firedrake.tripcolor(opt_bed_friction, vmin=0, vmax = 30, axes=ax)\n",
    "fig.colorbar(colors);\n",
    "ax.set_title('Bed Friction');"
   ]
  },
  {
   "cell_type": "code",
   "execution_count": null,
   "id": "f268569a-be5c-467b-aa19-e5c250f09b50",
   "metadata": {},
   "outputs": [],
   "source": [
    "fig, ax = subplots()\n",
    "colors = firedrake.tripcolor(icepack.depth_average(δu), vmin=0.0, vmax=1500, axes=ax,cmap='coolwarm')\n",
    "ax.set_title('Observed and modeled velocity misfit')\n",
    "fig.colorbar(colors);"
   ]
  }
 ],
 "metadata": {
  "kernelspec": {
   "display_name": "firedrake",
   "language": "python",
   "name": "firedrake"
  },
  "language_info": {
   "codemirror_mode": {
    "name": "ipython",
    "version": 3
   },
   "file_extension": ".py",
   "mimetype": "text/x-python",
   "name": "python",
   "nbconvert_exporter": "python",
   "pygments_lexer": "ipython3",
   "version": "3.8.10"
  }
 },
 "nbformat": 4,
 "nbformat_minor": 5
}
