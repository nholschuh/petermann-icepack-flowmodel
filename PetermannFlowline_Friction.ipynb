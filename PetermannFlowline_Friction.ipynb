{
 "cells": [
  {
   "cell_type": "markdown",
   "id": "a3d38ba5-6488-4891-a9ce-ad16c1fd9c15",
   "metadata": {},
   "source": [
    "# Petermann xz Flowline Friction Inverse\n",
    "\n",
    "Use the flowline created in PetermannFlowline_streamline-nc to run an inverse problem to solve for the basal friction that minimizes the misfit between the modeled and observed velocities"
   ]
  },
  {
   "cell_type": "markdown",
   "id": "6f9298af-c470-4308-89c5-543ca31444d0",
   "metadata": {
    "tags": []
   },
   "source": [
    "## Setup"
   ]
  },
  {
   "cell_type": "code",
   "execution_count": null,
   "id": "86c6addf-dd2a-4b6c-b437-b7730650026a",
   "metadata": {},
   "outputs": [],
   "source": [
    "import sys \n",
    "import glob\n",
    "import os\n",
    "\n",
    "import matplotlib.pyplot as plt\n",
    "import numpy as np\n",
    "\n",
    "import rioxarray as rxr\n",
    "import xarray as xr\n",
    "import rasterio\n",
    "\n",
    "import geojson\n",
    "\n",
    "import firedrake\n",
    "import icepack\n",
    "import icepack.plot"
   ]
  },
  {
   "cell_type": "markdown",
   "id": "6051d61d-035f-4de8-bb0f-a03e37509c99",
   "metadata": {},
   "source": [
    "### Mesh"
   ]
  },
  {
   "cell_type": "code",
   "execution_count": null,
   "id": "3731662d-969a-4fb3-8eb1-c8be94f7d035",
   "metadata": {},
   "outputs": [],
   "source": [
    "flowline_fn = 'Petermann-centerline.nc'\n",
    "flowline = xr.open_dataset(flowline_fn)"
   ]
  },
  {
   "cell_type": "code",
   "execution_count": null,
   "id": "52ece0bd-a69c-47b3-b3ba-442665bce1aa",
   "metadata": {},
   "outputs": [],
   "source": [
    "# Establish mesh, function spaces, and vector spaces that variables will live on in the mesh\n",
    "ld=flowline['linedist'][0]\n",
    "Lx = np.int(np.round(ld[-1]))\n",
    "nx = np.int(np.round(ld[-1]/1000))\n",
    "\n",
    "mesh1d = firedrake.IntervalMesh(nx, Lx)\n",
    "mesh = firedrake.ExtrudedMesh(mesh1d, layers=1)\n",
    "\n",
    "Q = firedrake.FunctionSpace(\n",
    "    mesh, family='CG', degree=2,\n",
    "    vfamily='R', vdegree=0\n",
    ")\n",
    "\n",
    "V = firedrake.FunctionSpace(\n",
    "    mesh, family='CG', degree=2,\n",
    "    vfamily='GL', vdegree=2\n",
    ")\n",
    "\n",
    "# Define spatial coordinates on the mesh\n",
    "x, ζ = firedrake.SpatialCoordinate(mesh)"
   ]
  },
  {
   "cell_type": "markdown",
   "id": "2cedd655-7587-42af-b50f-ce3c3472e39e",
   "metadata": {},
   "source": [
    "### Load/Interpolate Raster Data"
   ]
  },
  {
   "cell_type": "markdown",
   "id": "1d906ae4-89a0-4a5e-ad3a-08ab27dc2c77",
   "metadata": {},
   "source": [
    "#### Reading Data\n",
    "Here, you should define root_ddir as the directory containing the BedMachine, MEaSUREs, hillshade, and climate forcing files\n",
    "All files except BedMachine can be found [here](https://drive.google.com/drive/folders/1vSetbOF5Iy26ETMAF_-VXlrqotyp_3EO?usp=sharing).\n",
    "BedMachine and other file sources can be found here:\n",
    "- [BedMachine](https://nsidc.org/data/idbmg4/versions/5)\n",
    "- [MEaSUREs](https://nsidc.org/grimp)\n",
    "- [Martos Geothermal heat flux](https://doi.pangaea.de/10.1594/PANGAEA.892973?format=html#download)\n",
    "- [RACMO2 Surface Temperature/Surface Mass Balance](https://doi.org/10.5194/tc-10-2361-2016) (Need to email author Brice Noel for dataset)\n",
    "- [Hillshade](https://drive.google.com/drive/folders/1vSetbOF5Iy26ETMAF_-VXlrqotyp_3EO?usp=sharing) (creator is Nicholas Holchuh)\n"
   ]
  },
  {
   "cell_type": "code",
   "execution_count": null,
   "id": "bdc00101-c635-4ba2-b0ae-87b4714bb8b0",
   "metadata": {},
   "outputs": [],
   "source": [
    "### Reading Data\n",
    "### Here, you should define root_ddir as the directory containing the BedMachine, MEaSUREs, hillshade, and climate forcing files\n",
    "\n",
    "root_ddir = '/mnt/data01/Data/'\n",
    "\n",
    "velocity_fn = glob.glob(root_ddir+'*vel*.nc')\n",
    "ice_info_fn = glob.glob(root_ddir+'*BedMachine*.nc')\n",
    "hillshade_fn = glob.glob(root_ddir+'*Hillshade*.nc') \n",
    "geothermal_fn = glob.glob(root_ddir+'*Martos*.nc')\n",
    "racmo_fn = glob.glob(root_ddir+'*RACMO*.nc')\n",
    "\n",
    "### Hillshade\n",
    "hs = xr.open_dataset(hillshade_fn[0])\n",
    "\n",
    "### Velocities\n",
    "vx = rxr.open_rasterio(velocity_fn[0])[0,:,:]\n",
    "vy = rxr.open_rasterio(velocity_fn[1])[0,:,:]\n",
    "vz=vy.copy()\n",
    "vz.values=np.zeros(np.shape(vy.values))\n",
    "speed=np.sqrt(vx**2+vy**2)\n",
    "\n",
    "### Glacial geometry\n",
    "ice_bed_props = rxr.open_rasterio(ice_info_fn[0])\n",
    "thickness = ice_bed_props['thickness'][0,:,:]\n",
    "bed = ice_bed_props['bed'][0,:,:]\n",
    "surface = ice_bed_props['surface'][0,:,:]\n",
    "\n",
    "### Climate forcings\n",
    "geothermal = xr.open_rasterio(geothermal_fn[0])[0,:,:]/1000\n",
    "racmo = xr.open_dataset(racmo_fn[0])\n",
    "surftemp = racmo['T2m_avg']\n",
    "SMB = racmo['SMB_avg']\n",
    "\n",
    "### Get Petermann basin outline\n",
    "outline_fn='petermann_streamlines_evenspace_full.geojson'\n",
    "with open(outline_fn, 'r') as outline_file:\n",
    "    basin_outline = geojson.load(outline_file)\n",
    "\n",
    "basin_coords = []\n",
    "for i in basin_outline['features'][0]['geometry']['coordinates']:\n",
    "    for coord in i:\n",
    "        basin_coords.append(coord)\n",
    "basin_coords=np.array(basin_coords)"
   ]
  },
  {
   "cell_type": "code",
   "execution_count": null,
   "id": "cae59efe-2640-4ed7-9017-84242a603cc3",
   "metadata": {},
   "outputs": [],
   "source": [
    "####### Here we interpolate onto the mesh\n",
    "h0 = icepack.interpolate_xr(flowline['Thickness'], Q)\n",
    "s0 = icepack.interpolate_xr(flowline['Surface'], Q)\n",
    "b = icepack.interpolate_xr(flowline['Bed'], Q)\n",
    "u0 = icepack.interpolate_xr(flowline['Speed'], V)\n",
    "\n",
    "h_in = h0.at([0,0])\n",
    "s_in = s0.at([0,0])\n",
    "u_in = u0.at([0,0])\n",
    "s_out = s0.at([Lx,0])"
   ]
  },
  {
   "cell_type": "markdown",
   "id": "2d51f4bc-942c-420a-b872-5693f1960567",
   "metadata": {},
   "source": [
    "### Plotting Functions"
   ]
  },
  {
   "cell_type": "code",
   "execution_count": null,
   "id": "bce267c3-4dce-4213-a9a7-8089e3e00cab",
   "metadata": {},
   "outputs": [],
   "source": [
    "def basin_subplot(*args, **kwargs):\n",
    "    zoom = kwargs.get(\"zoom\",0)\n",
    "    image = kwargs.get(\"image\",0)\n",
    "    fig, ax = plt.subplots(figsize=[8,8])\n",
    "    im1=ax.imshow(hs['hillshade'].values,\n",
    "                  extent=[hs['x'].values.min(),hs['x'].values.max(),hs['y'].values.min(),hs['y'].values.max()],\n",
    "                  cmap='Greys_r', vmin=0,vmax=200,origin='upper')\n",
    "    plt.ticklabel_format(style='sci', axis='x', scilimits=(0,0))\n",
    "    \n",
    "    plt.plot(basin_coords.T[0],basin_coords.T[1],c='darkred')\n",
    "    \n",
    "    if zoom == -1:\n",
    "        ax.set_ylim([-1.6e6,-1e6]);\n",
    "        ax.set_xlim([-0.325e6,0.1e6]);\n",
    "    elif zoom == 0:\n",
    "        ax.set_ylim([-1.55e6,-.9e6]);\n",
    "        ax.set_xlim([-0.3e6,0.05e6]);\n",
    "    elif zoom == 1:\n",
    "        ax.set_ylim(-1.1e6,-0.9e6);\n",
    "        ax.set_xlim(-3e5,-1.5e5);\n",
    "\n",
    "    ax.set_aspect('equal')\n",
    "    \n",
    "    return fig, ax\n",
    "\n",
    "fig,ax = basin_subplot()\n",
    "ax.plot(flowline['x_pol'][0],flowline['y_pol'][0],c='cyan');"
   ]
  },
  {
   "cell_type": "code",
   "execution_count": null,
   "id": "08e16351-d206-4e65-a256-52b59f40aced",
   "metadata": {},
   "outputs": [],
   "source": [
    "def depth_avg_plot(s0,h0,b,u0,**kwargs):\n",
    "    figsize = kwargs.get(\"figsize\",(12,8))\n",
    "    \n",
    "    fig, ax = plt.subplots(2,2,figsize=figsize)\n",
    "    \n",
    "    firedrake.plot(icepack.depth_average(s0),axes=ax[0,0])\n",
    "    firedrake.plot(icepack.depth_average(h0),axes=ax[1,0])\n",
    "    firedrake.plot(icepack.depth_average(b),axes=ax[0,1])\n",
    "    firedrake.plot(icepack.depth_average(u0),axes=ax[1,1])\n",
    "    ax[0,0].set_title('Surface Height (m)')\n",
    "    ax[0,1].set_title('Bed Height (m)')\n",
    "    ax[1,0].set_title('Thickness (m)')\n",
    "    ax[1,1].set_title('Speed (m/a)')\n",
    "    return fig, ax\n",
    "\n",
    "depth_avg_plot(s0,h0,b,u0);"
   ]
  },
  {
   "cell_type": "markdown",
   "id": "f3b594de-c10e-438f-9925-0f5a85768d36",
   "metadata": {},
   "source": [
    "## Inverse Model"
   ]
  },
  {
   "cell_type": "code",
   "execution_count": null,
   "id": "8a3d18c8-89b6-4115-8efd-cdda95f22a5a",
   "metadata": {},
   "outputs": [],
   "source": [
    "T = firedrake.Constant(255)\n",
    "A = icepack.rate_factor(T)"
   ]
  },
  {
   "cell_type": "markdown",
   "id": "2f9cce1a-31b3-4cbb-afc9-c31e6287e7b5",
   "metadata": {},
   "source": [
    "### Initial Friction Coefficient"
   ]
  },
  {
   "cell_type": "markdown",
   "id": "2c3070e7-4a99-43a2-af3e-6676bb030737",
   "metadata": {},
   "source": [
    "Calculate a rough, constant estimate of the friction coefficient `C0` (estimate basal friction coefficient takes up half the driving stress, set coefficient to 0 for floating ice)"
   ]
  },
  {
   "cell_type": "code",
   "execution_count": null,
   "id": "21c11f9d-ae7d-40f3-b1cc-5fe64b30d53d",
   "metadata": {},
   "outputs": [],
   "source": [
    "# Make a friction coefficient according to Weertman Sliding Law (could not figure out how to take average value so just chose one)\n",
    "from firedrake import Constant, sqrt, inner, grad, dx\n",
    "from icepack.constants import (\n",
    "    weertman_sliding_law as m,\n",
    "    ice_density as ρ_I,\n",
    "    water_density as ρ_W,\n",
    "    gravity as g,\n",
    ")\n",
    "\n",
    "δs_δx = (s_out - s_in) / Lx\n",
    "τ_D = -ρ_I * g * h_in * δs_δx\n",
    "\n",
    "p_W = ρ_W * g * firedrake.max_value(0, h0 - s0)\n",
    "p_I = ρ_I * g * h0\n",
    "ϕ = 1 - p_W / p_I\n",
    "ϕb = firedrake.max_value(1 - p_W / (p_I*0.9),0)\n",
    "\n",
    "expr = firedrake.interpolate(ϕ * (0.95 - 0.05 * x / Lx) * τ_D / u_in ** (1 / m), Q)\n",
    "C_0 = firedrake.interpolate(firedrake.assemble(expr,dx),Q)\n",
    "firedrake.plot(icepack.depth_average(firedrake.interpolate(C_0,Q)))"
   ]
  },
  {
   "cell_type": "code",
   "execution_count": null,
   "id": "ca59d043-67fe-4c8a-8d72-1a3888405cb1",
   "metadata": {},
   "outputs": [],
   "source": [
    "### Choose the average C_0 to scale by theta\n",
    "C_0=firedrake.Constant(0.4)"
   ]
  },
  {
   "cell_type": "markdown",
   "id": "5730075c-e270-4e7d-8bf8-befc76b1a4dc",
   "metadata": {},
   "source": [
    "Parameterize friction in terms of exp(θ)"
   ]
  },
  {
   "cell_type": "code",
   "execution_count": null,
   "id": "f35cf696-c33a-4511-a3b1-747b3336b9e1",
   "metadata": {},
   "outputs": [],
   "source": [
    "import icepack.models.hybrid\n",
    "\n",
    "def friction(**kwargs):\n",
    "    u = kwargs['velocity']\n",
    "    h = kwargs['thickness']\n",
    "    s = kwargs['surface']\n",
    "    θ = kwargs['log_friction']\n",
    "    \n",
    "    p_W = ρ_W * g * firedrake.max_value(0, h - s)\n",
    "    p_I = ρ_I * g * h\n",
    "    ϕ = 1 - p_W / p_I\n",
    "    ϕb = firedrake.max_value(1 - p_W / (p_I*0.85),0)\n",
    "    \n",
    "    C = firedrake.exp(θ) * ϕb * C_0\n",
    "    #C = firedrake.exp(θ) * ϕ * C_0\n",
    "    return icepack.models.friction.bed_friction(velocity=u, friction=C)"
   ]
  },
  {
   "cell_type": "markdown",
   "id": "dbac0824-70c2-4dda-83f6-be1abb85497a",
   "metadata": {},
   "source": [
    "### Define Model"
   ]
  },
  {
   "cell_type": "code",
   "execution_count": null,
   "id": "b3999bb8-5222-4fbb-b8e7-bbe1473bb96c",
   "metadata": {},
   "outputs": [],
   "source": [
    "model = icepack.models.HybridModel(friction=friction)\n",
    "degree = 4\n",
    "opts = {\n",
    "    \"dirichlet_ids\": [1],\n",
    "    \"diagnostic_solver_type\": \"petsc\",\n",
    "    \"diagnostic_solver_parameters\": {\n",
    "        \"snes_type\": \"newtontr\",\n",
    "        \"ksp_type\": \"gmres\",\n",
    "        \"pc_type\": \"lu\",\n",
    "        \"pc_factor_mat_solver_type\": \"mumps\",\n",
    "    },\n",
    "    \"form_compiler_parameters\": {\n",
    "        \"quadrature_degree\": degree\n",
    "    }\n",
    "}\n",
    "solver = icepack.solvers.FlowSolver(model, **opts)"
   ]
  },
  {
   "cell_type": "code",
   "execution_count": null,
   "id": "20c4f889-4a75-4955-83b6-ea8215638aee",
   "metadata": {},
   "outputs": [],
   "source": [
    "θ = firedrake.Function(Q)"
   ]
  },
  {
   "cell_type": "code",
   "execution_count": null,
   "id": "417a18ea-dd35-4f59-9f83-c1bdd0c35a9d",
   "metadata": {},
   "outputs": [],
   "source": [
    "### Initial model velocity\n",
    "u = solver.diagnostic_solve(\n",
    "    velocity=u0,\n",
    "    thickness=h0,\n",
    "    surface=s0,\n",
    "    fluidity=A,\n",
    "    log_friction=θ\n",
    ")"
   ]
  },
  {
   "cell_type": "code",
   "execution_count": null,
   "id": "094baab7-afd0-41ec-a5c2-0bcef7aa7ebc",
   "metadata": {
    "tags": []
   },
   "outputs": [],
   "source": [
    "def u_difference_plot(u0,u):\n",
    "    fig,ax = plt.subplots(1,3,figsize=(16,4))\n",
    "    firedrake.plot(icepack.depth_average(u0),axes=ax[0])\n",
    "    firedrake.plot(icepack.depth_average(u),axes=ax[1])\n",
    "    firedrake.plot(icepack.depth_average(firedrake.interpolate(u-u0,V)),axes=ax[2])\n",
    "    \n",
    "    ax[0].set_ylabel('Velocity (m/s)')\n",
    "    ax[0].set_title('Observed Velocity')\n",
    "    ax[1].set_title('Modeled Velocity')\n",
    "    ax[2].set_title('Modeled-Observed')\n",
    "    \n",
    "    ax[0].set_xlabel('distance along centerline')\n",
    "    ax[1].set_xlabel('distance along centerline')\n",
    "    ax[2].set_xlabel('distance along centerline')\n",
    "    \n",
    "    return fig,ax\n",
    "    \n",
    "u_difference_plot(u0,u);"
   ]
  },
  {
   "cell_type": "markdown",
   "id": "1dab5ed1-9088-4054-ad7c-3da09c373478",
   "metadata": {},
   "source": [
    "### Define Problem\n",
    "Define the simulation, loss functional, and the regularization functional for the `StatisticsProblem`"
   ]
  },
  {
   "cell_type": "code",
   "execution_count": null,
   "id": "f82ee683-0cc5-4141-adf9-e1a4229a67c6",
   "metadata": {},
   "outputs": [],
   "source": [
    "def simulation(θ):\n",
    "    return solver.diagnostic_solve(\n",
    "        velocity=u0,\n",
    "        thickness=h0,\n",
    "        surface=s0,\n",
    "        fluidity=A,\n",
    "        log_friction=θ,\n",
    "    )\n",
    "\n",
    "σx = Constant(5.0)\n",
    "def loss_functional(u):\n",
    "    δu = u - u0\n",
    "    return 0.5 / Lx * (δu / σx)**2 * dx\n",
    "\n",
    "L = Constant(10e3)\n",
    "def regularization(θ):\n",
    "    return 0.5 * L**2 / Lx * inner(grad(θ), grad(θ)) * dx"
   ]
  },
  {
   "cell_type": "code",
   "execution_count": null,
   "id": "3cd5f7f5-3c60-4e18-beb7-df44f3cca8c9",
   "metadata": {},
   "outputs": [],
   "source": [
    "from icepack.statistics import StatisticsProblem, MaximumProbabilityEstimator\n",
    "\n",
    "problem = StatisticsProblem(\n",
    "    simulation=simulation,\n",
    "    loss_functional=loss_functional,\n",
    "    regularization=regularization,\n",
    "    controls=θ,\n",
    ")"
   ]
  },
  {
   "cell_type": "markdown",
   "id": "52e0718f-3f4f-42b5-9c7e-be993c550b8a",
   "metadata": {},
   "source": [
    "### Solve\n",
    "Solve the `StatisticsProblem` using `MaximumProbabilityEstimator` from icepack"
   ]
  },
  {
   "cell_type": "code",
   "execution_count": null,
   "id": "aff4a51c-d335-4475-bee0-f648e311e5be",
   "metadata": {
    "tags": []
   },
   "outputs": [],
   "source": [
    "estimator = MaximumProbabilityEstimator(\n",
    "    problem,\n",
    "    gradient_tolerance=1e-4,\n",
    "    step_tolerance=1e-1,\n",
    "    max_iterations=400,\n",
    "    verbose = 0\n",
    ")\n",
    "θ = estimator.solve()"
   ]
  },
  {
   "cell_type": "markdown",
   "id": "319c7627-954b-457b-80db-ee43c01a8585",
   "metadata": {},
   "source": [
    "## Analysis"
   ]
  },
  {
   "cell_type": "code",
   "execution_count": null,
   "id": "784a9efd-edcb-4291-a75c-49e24075aff9",
   "metadata": {},
   "outputs": [],
   "source": [
    "import NDH_Tools as ndh"
   ]
  },
  {
   "cell_type": "code",
   "execution_count": null,
   "id": "f2d39c58-ec1a-4c70-8957-27ae7f0d3d83",
   "metadata": {},
   "outputs": [],
   "source": [
    "u_fin = simulation(θ)\n",
    "δu = firedrake.interpolate(u_fin - u0, Q)"
   ]
  },
  {
   "cell_type": "code",
   "execution_count": null,
   "id": "c71ed385-bddb-4579-8376-d9defe625c3e",
   "metadata": {},
   "outputs": [],
   "source": [
    "fig,ax = u_difference_plot(u0,u_fin)"
   ]
  },
  {
   "cell_type": "code",
   "execution_count": null,
   "id": "f081a1ad-434e-42ec-98af-dc994c3f9504",
   "metadata": {},
   "outputs": [],
   "source": [
    "friction = firedrake.interpolate(C_0*firedrake.exp(θ),Q)"
   ]
  },
  {
   "cell_type": "code",
   "execution_count": null,
   "id": "b22a8faf-342a-428a-8f8f-744d11b700bd",
   "metadata": {},
   "outputs": [],
   "source": [
    "firedrake.plot(icepack.depth_average(friction));\n",
    "plt.title('Friction')"
   ]
  },
  {
   "cell_type": "code",
   "execution_count": null,
   "id": "9ccd4edf-f381-408c-84fa-040a227d13ee",
   "metadata": {},
   "outputs": [],
   "source": [
    "from firedrake.checkpointing import DumbCheckpoint\n",
    "\n",
    "filename = \"Petermann_xzflowline_friction\"\n",
    "\n",
    "C = firedrake.interpolate(C_0 * firedrake.exp(θ), Q)\n",
    "if not os.path.exists(filename+'.h5'):\n",
    "    with firedrake.DumbCheckpoint(filename, \"w\") as chk:\n",
    "        chk.store(function=θ,name=\"log_friction\")\n",
    "        chk.store(function=C,name=\"friction\")"
   ]
  },
  {
   "cell_type": "code",
   "execution_count": null,
   "id": "15eca858-1b57-470b-b2c8-8aa56b9db927",
   "metadata": {},
   "outputs": [],
   "source": [
    "filename = 'Petermann_xzflowline_friction'\n",
    "with firedrake.DumbCheckpoint(filename, \"r\") as chk:\n",
    "    chk.load(CC, name=\"friction\")"
   ]
  }
 ],
 "metadata": {
  "kernelspec": {
   "display_name": "firedrake",
   "language": "python",
   "name": "firedrake"
  },
  "language_info": {
   "codemirror_mode": {
    "name": "ipython",
    "version": 3
   },
   "file_extension": ".py",
   "mimetype": "text/x-python",
   "name": "python",
   "nbconvert_exporter": "python",
   "pygments_lexer": "ipython3",
   "version": "3.8.10"
  }
 },
 "nbformat": 4,
 "nbformat_minor": 5
}
