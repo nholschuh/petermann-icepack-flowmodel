{
 "cells": [
  {
   "cell_type": "markdown",
   "id": "f14a38ad-8b49-4502-8ffd-88a347eff05a",
   "metadata": {
    "tags": []
   },
   "source": [
    "# Petermann Flowline Model\n",
    "\n",
    "Use icepack diagnostic/prognostic solver and hybrid model features to make a steady-state, Petermann flowline model\n",
    "- Takes friction coefficient value from PetermannFlowline_Friction \n",
    "- Takes temperature field from PetermannFlowline_HeatTransport"
   ]
  },
  {
   "cell_type": "markdown",
   "id": "2dc12091-65a4-4ec4-9295-5e910dc0da27",
   "metadata": {},
   "source": [
    "## Setup"
   ]
  },
  {
   "cell_type": "markdown",
   "id": "20cc3398-5644-4ff0-a28b-b2e0bf10cf0d",
   "metadata": {},
   "source": [
    "### Imports and data"
   ]
  },
  {
   "cell_type": "code",
   "execution_count": null,
   "id": "69f2e83b-8873-4958-8cb8-1a2115386415",
   "metadata": {},
   "outputs": [],
   "source": [
    "import sys \n",
    "import glob\n",
    "import os\n",
    "\n",
    "import matplotlib.pyplot as plt\n",
    "import numpy as np\n",
    "\n",
    "import rioxarray as rxr\n",
    "import xarray as xr\n",
    "import rasterio\n",
    "\n",
    "import geojson\n",
    "\n",
    "import firedrake\n",
    "import icepack\n",
    "import icepack.plot"
   ]
  },
  {
   "cell_type": "markdown",
   "id": "9fb34580-4b0a-4c92-a1e9-4fc8815b0d35",
   "metadata": {
    "tags": []
   },
   "source": [
    "### Mesh"
   ]
  },
  {
   "cell_type": "code",
   "execution_count": null,
   "id": "77748f1e-c1e4-4889-b8c1-6f896b954976",
   "metadata": {},
   "outputs": [],
   "source": [
    "flowline_fn = 'Petermann-centerline.nc'\n",
    "flowline = xr.open_dataset(flowline_fn)"
   ]
  },
  {
   "cell_type": "code",
   "execution_count": null,
   "id": "674766e2-372a-479f-aff7-d6525d165d28",
   "metadata": {},
   "outputs": [],
   "source": [
    "# Establish mesh, function spaces, and vector spaces that variables will live on in the mesh\n",
    "ld=flowline['linedist'][0]\n",
    "Lx = np.int(np.round(ld[-1]))\n",
    "nx = np.int(np.round(ld[-1]/1000))\n",
    "\n",
    "mesh1d = firedrake.IntervalMesh(nx, Lx)\n",
    "mesh = firedrake.ExtrudedMesh(mesh1d, layers=1)\n",
    "\n",
    "Q = firedrake.FunctionSpace(\n",
    "    mesh, family='CG', degree=2,\n",
    "    vfamily='R', vdegree=0\n",
    ")\n",
    "\n",
    "V = firedrake.FunctionSpace(\n",
    "    mesh, family='CG', degree=2,\n",
    "    vfamily='GL', vdegree=2\n",
    ")\n",
    "\n",
    "# Define spatial coordinates on the mesh\n",
    "x, ζ = firedrake.SpatialCoordinate(mesh)"
   ]
  },
  {
   "cell_type": "markdown",
   "id": "8a97c95d-07dc-40eb-8067-c813f1f2d58e",
   "metadata": {},
   "source": [
    "### Load/Interpolate Raster Data"
   ]
  },
  {
   "cell_type": "markdown",
   "id": "91128d04-2bde-4c5f-9447-33bfe6421305",
   "metadata": {},
   "source": [
    "#### Reading Data\n",
    "Here, you should define root_ddir as the directory containing the BedMachine, MEaSUREs, hillshade, and climate forcing files\n",
    "All files except BedMachine can be found [here](https://drive.google.com/drive/folders/1vSetbOF5Iy26ETMAF_-VXlrqotyp_3EO?usp=sharing).\n",
    "BedMachine and other file sources can be found here:\n",
    "- [BedMachine](https://nsidc.org/data/idbmg4/versions/5)\n",
    "- [MEaSUREs](https://nsidc.org/grimp)\n",
    "- [Martos Geothermal heat flux](https://doi.pangaea.de/10.1594/PANGAEA.892973?format=html#download)\n",
    "- [RACMO2 Surface Temperature/Surface Mass Balance](https://doi.org/10.5194/tc-10-2361-2016) (Need to email author Brice Noel for dataset)\n",
    "- [Hillshade](https://drive.google.com/drive/folders/1vSetbOF5Iy26ETMAF_-VXlrqotyp_3EO?usp=sharing) (creator is Nicholas Holchuh)\n"
   ]
  },
  {
   "cell_type": "code",
   "execution_count": null,
   "id": "1cc6e229-d530-458a-a937-60b71a3aa3dd",
   "metadata": {},
   "outputs": [],
   "source": [
    "### Reading Data\n",
    "### Here, you should define root_ddir as the directory containing the BedMachine, MEaSUREs, hillshade, and climate forcing files\n",
    "\n",
    "root_ddir = '/mnt/data01/Data/'\n",
    "\n",
    "velocity_fn = glob.glob(root_ddir+'*vel*.nc')\n",
    "ice_info_fn = glob.glob(root_ddir+'*BedMachine*.nc')\n",
    "hillshade_fn = glob.glob(root_ddir+'*Hillshade*.nc') \n",
    "geothermal_fn = glob.glob(root_ddir+'*Martos*.nc')\n",
    "racmo_fn = glob.glob(root_ddir+'*RACMO*.nc')\n",
    "\n",
    "### Hillshade\n",
    "hs = xr.open_dataset(hillshade_fn[0])\n",
    "\n",
    "### Velocities\n",
    "vx = rxr.open_rasterio(velocity_fn[0])[0,:,:]\n",
    "vy = rxr.open_rasterio(velocity_fn[1])[0,:,:]\n",
    "vz=vy.copy()\n",
    "vz.values=np.zeros(np.shape(vy.values))\n",
    "speed=np.sqrt(vx**2+vy**2)\n",
    "\n",
    "### Glacial geometry\n",
    "ice_bed_props = rxr.open_rasterio(ice_info_fn[0])\n",
    "thickness = ice_bed_props['thickness'][0,:,:]\n",
    "bed = ice_bed_props['bed'][0,:,:]\n",
    "surface = ice_bed_props['surface'][0,:,:]\n",
    "\n",
    "### Climate forcings\n",
    "geothermal = xr.open_rasterio(geothermal_fn[0])[0,:,:]/1000\n",
    "racmo = xr.open_dataset(racmo_fn[0])\n",
    "surftemp = racmo['T2m_avg']\n",
    "SMB = racmo['SMB_avg']\n",
    "\n",
    "### Get Petermann basin outline\n",
    "outline_fn='petermann_streamlines_evenspace_full.geojson'\n",
    "with open(outline_fn, 'r') as outline_file:\n",
    "    basin_outline = geojson.load(outline_file)\n",
    "\n",
    "basin_coords = []\n",
    "for i in basin_outline['features'][0]['geometry']['coordinates']:\n",
    "    for coord in i:\n",
    "        basin_coords.append(coord)\n",
    "basin_coords=np.array(basin_coords)"
   ]
  },
  {
   "cell_type": "code",
   "execution_count": null,
   "id": "4c085830-e274-46fd-8169-d960b1725c31",
   "metadata": {},
   "outputs": [],
   "source": [
    "####### Here we interpolate onto the mesh\n",
    "h0 = icepack.interpolate_xr(flowline['Thickness'], Q)\n",
    "s0 = icepack.interpolate_xr(flowline['Surface'], Q)\n",
    "b = icepack.interpolate_xr(flowline['Bed'], Q)\n",
    "u0 = icepack.interpolate_xr(flowline['Speed'], V)\n",
    "smb = icepack.interpolate_xr(flowline['SMB'], Q)\n",
    "\n",
    "h_in = h0.at([0,0])\n",
    "s_in = s0.at([0,0])\n",
    "u_in = u0.at([0,0])\n",
    "s_out = s0.at([Lx,0])"
   ]
  },
  {
   "cell_type": "markdown",
   "id": "26602065-f3f4-463e-a783-408a7ba7bb86",
   "metadata": {},
   "source": [
    "### Plotting Functions"
   ]
  },
  {
   "cell_type": "code",
   "execution_count": null,
   "id": "34ea4c60-ce80-49bf-b436-f1ae33c83b63",
   "metadata": {},
   "outputs": [],
   "source": [
    "def basin_subplot(*args, **kwargs):\n",
    "    zoom = kwargs.get(\"zoom\",0)\n",
    "    image = kwargs.get(\"image\",0)\n",
    "    fig, ax = plt.subplots(figsize=[8,8])\n",
    "    im1=ax.imshow(hs['hillshade'].values,\n",
    "                  extent=[hs['x'].values.min(),hs['x'].values.max(),hs['y'].values.min(),hs['y'].values.max()],\n",
    "                  cmap='Greys_r', vmin=0,vmax=200,origin='upper')\n",
    "    plt.ticklabel_format(style='sci', axis='x', scilimits=(0,0))\n",
    "    \n",
    "    plt.plot(basin_coords.T[0],basin_coords.T[1],c='darkred')\n",
    "    \n",
    "    if zoom == -1:\n",
    "        ax.set_ylim([-1.6e6,-1e6]);\n",
    "        ax.set_xlim([-0.325e6,0.1e6]);\n",
    "    elif zoom == 0:\n",
    "        ax.set_ylim([-1.55e6,-.9e6]);\n",
    "        ax.set_xlim([-0.3e6,0.05e6]);\n",
    "    elif zoom == 1:\n",
    "        ax.set_ylim(-1.1e6,-0.9e6);\n",
    "        ax.set_xlim(-3e5,-1.5e5);\n",
    "\n",
    "    ax.set_aspect('equal')\n",
    "    \n",
    "    return fig, ax\n",
    "\n",
    "fig,ax = basin_subplot()\n",
    "ax.plot(flowline['x_pol'][0],flowline['y_pol'][0],c='cyan');"
   ]
  },
  {
   "cell_type": "code",
   "execution_count": null,
   "id": "bb817b99-0247-4af5-b78f-2546018a7843",
   "metadata": {},
   "outputs": [],
   "source": [
    "def depth_avg_plot(s0,h0,b,u0,**kwargs):\n",
    "    figsize = kwargs.get(\"figsize\",(12,8))\n",
    "    \n",
    "    fig, ax = plt.subplots(2,2,figsize=figsize)\n",
    "    \n",
    "    firedrake.plot(icepack.depth_average(s0),axes=ax[0,0])\n",
    "    firedrake.plot(icepack.depth_average(h0),axes=ax[1,0])\n",
    "    firedrake.plot(icepack.depth_average(b),axes=ax[0,1])\n",
    "    firedrake.plot(icepack.depth_average(u0),axes=ax[1,1])\n",
    "    ax[0,0].set_title('Surface Height (m)')\n",
    "    ax[0,1].set_title('Bed Height (m)')\n",
    "    ax[1,0].set_title('Thickness (m)')\n",
    "    ax[1,1].set_title('Speed (m/a)')\n",
    "    return fig, ax\n",
    "\n",
    "depth_avg_plot(s0,h0,b,u0);"
   ]
  },
  {
   "cell_type": "code",
   "execution_count": null,
   "id": "32e23459-e923-4319-acf5-dec7a5f7181c",
   "metadata": {},
   "outputs": [],
   "source": [
    "def glacier_z_coords(var, h, s, b, field, xsampling=200, zsampling=100):\n",
    "    ################# Here, we produce the x and ζ coordinates to extract\n",
    "    x_opts = np.linspace(0.001,Lx-0.001,xsampling)\n",
    "    ζ_opts = np.linspace(0.001,0.999,zsampling)\n",
    "    x_coords_grid,ζ_coords_grid=np.meshgrid(x_opts,ζ_opts)\n",
    "\n",
    "    orig_size = x_coords_grid.shape\n",
    "    x_coords_vec = np.reshape(x_coords_grid,[1,np.prod(orig_size)])\n",
    "    ζ_coords_vec = np.reshape(ζ_coords_grid,[1,np.prod(orig_size)])\n",
    "\n",
    "    ################# Combine the x and ζ 1D arrays to get an n x 2 array containing all the points we want to extract\n",
    "    coord_list = np.concatenate([x_coords_vec,ζ_coords_vec]).T\n",
    "\n",
    "    ################# Here we loop through the list of coordinates and extract the points at relevant values \n",
    "    ################# (Firedrake can probably do this without a loop, but I started testing things this way)\n",
    "    var_extract = []\n",
    "\n",
    "    for i in coord_list:\n",
    "        var_extract.append(var.at(i[0],i[1]))\n",
    "\n",
    "    ################# We turn that into a numpy array, and then we turn it into the shape of the original meshgrids\n",
    "    var_extract_vec = np.array(var_extract)\n",
    "    var_extract_grid = np.reshape(var_extract,orig_size)\n",
    "\n",
    "    ################# Here we create an array of the ice surface elevation values\n",
    "    surf = np.array(icepack.depth_average(s).at(x_opts))\n",
    "    ################# Here we create an array of the ice surface elevation values\n",
    "    bed = np.array(icepack.depth_average(b).at(x_opts))\n",
    "    ################# And then the ice bed elevation values -- What does the Q do here? I just copied Wills code that worked.\n",
    "    ice_base = firedrake.interpolate(s - h, field)\n",
    "    ice_base = np.array(icepack.depth_average(ice_base).at(x_opts))\n",
    "\n",
    "    ################# Then, using a bit of matrix algebra, we create a (1) matrix of relative thickness positions corresponding to the \n",
    "    ################# ζ values, and then we add it to a matrix of the bed elevation values (made to be the same size as the original z mesh grid)\n",
    "    ################# This produces a matrix, the same size at the x_coords_grid, with corresponding true z for the glacier\n",
    "    z_coords_grid = np.matmul(np.matrix(ζ_opts).T,np.matrix(surf-ice_base))+np.tile(ice_base,(zsampling,1))\n",
    "    \n",
    "    return(var_extract_grid, surf, bed, ice_base, x_opts, x_coords_grid, z_coords_grid)"
   ]
  },
  {
   "cell_type": "code",
   "execution_count": null,
   "id": "827856ec-2054-46a4-b42a-847ac0529af1",
   "metadata": {
    "tags": []
   },
   "outputs": [],
   "source": [
    "def glacier_plot(var, h, s, b, field, **kwargs):\n",
    "    xsampling = kwargs.get(\"xsampling\",200)\n",
    "    zsampling = kwargs.get(\"ysampling\",100)\n",
    "    fsize = kwargs.get(\"figsize\",(10,5))\n",
    "    cmap = kwargs.get(\"cmap\")\n",
    "    vmin = kwargs.get(\"vmin\")\n",
    "    vmax = kwargs.get(\"vmax\")\n",
    "    \n",
    "    (var_extract_grid, surf, bed, ice_b, x_opts, x_coords_grid, z_coords_grid) = glacier_z_coords(var, h, s, b, field, xsampling, zsampling)\n",
    "    \n",
    "    fig, ax = plt.subplots(figsize=fsize)\n",
    "\n",
    "    cdata = plt.pcolor(x_coords_grid,z_coords_grid,var_extract_grid,\n",
    "                       cmap=cmap,vmin=vmin,vmax=vmax)\n",
    "    cbar = plt.colorbar(cdata)\n",
    "    plt.plot(x_opts,surf,c='steelblue')\n",
    "    plt.plot(x_opts,ice_b,c='steelblue')\n",
    "    plt.plot(x_opts,bed,c='black')\n",
    "\n",
    "    plt.xlabel('Distance Along Glacier (m)')\n",
    "    plt.ylabel('Elevation (m)')\n",
    "    return fig, ax\n",
    "initial_glacier=glacier_plot(u0,h0,s0,b,V)"
   ]
  },
  {
   "cell_type": "markdown",
   "id": "3e6b18ba-9383-4946-9ec1-4595eb17f2b1",
   "metadata": {},
   "source": [
    "## Modeling\n",
    "\n",
    "First define friction, temperature/fluidity field, and accumulation rate, and then do diagnostic/prognostic solve"
   ]
  },
  {
   "cell_type": "markdown",
   "id": "7d09b8b1-a491-4aba-94e4-2b7258077956",
   "metadata": {},
   "source": [
    "### Friction"
   ]
  },
  {
   "cell_type": "code",
   "execution_count": null,
   "id": "90980bde-2360-4f8f-ae93-9ee395d03d36",
   "metadata": {},
   "outputs": [],
   "source": [
    "### Import friction parameterization (derived in Petermann-friction-xzflowline)\n",
    "C=firedrake.Function(Q)\n",
    "\n",
    "filename = 'Petermann_xzflowline_friction'\n",
    "with firedrake.DumbCheckpoint(filename, \"r\") as chk:\n",
    "    chk.load(C, name=\"friction\")\n",
    "    \n",
    "firedrake.plot(icepack.depth_average(C));\n",
    "plt.title(\"Optimized Friction Coefficient\");"
   ]
  },
  {
   "cell_type": "code",
   "execution_count": null,
   "id": "dddfa08e-bd1f-48a7-b272-a27e7594ad7a",
   "metadata": {},
   "outputs": [],
   "source": [
    "import icepack.models.hybrid\n",
    "from icepack.constants import (\n",
    "    ice_density as ρ_I,\n",
    "    water_density as ρ_W,\n",
    "    year as year,\n",
    "    gravity as g\n",
    ")\n",
    "\n",
    "def friction(**kwargs):\n",
    "    u = kwargs['velocity']\n",
    "    h = kwargs['thickness']\n",
    "    s = kwargs['surface']\n",
    "    C = kwargs['friction']\n",
    "    \n",
    "    p_W = ρ_W * g * firedrake.max_value(0, h - s)\n",
    "    p_I = ρ_I * g * h\n",
    "    ϕ = 1 - p_W / p_I\n",
    "    \n",
    "    C = C * ϕ\n",
    "    return icepack.models.friction.bed_friction(velocity=u, friction=C)"
   ]
  },
  {
   "cell_type": "markdown",
   "id": "9032006e-d7bf-4c5d-aaca-7e82bb9b97ef",
   "metadata": {
    "tags": []
   },
   "source": [
    "### Temperature/Fluidity"
   ]
  },
  {
   "cell_type": "code",
   "execution_count": null,
   "id": "6bc2f26f-cb27-48b3-830b-b331f559709f",
   "metadata": {},
   "outputs": [],
   "source": [
    "T = firedrake.Constant(255.0)\n",
    "A = icepack.rate_factor(T)"
   ]
  },
  {
   "cell_type": "markdown",
   "id": "b8a23f55-a0ea-4030-b48b-93aef19e06c5",
   "metadata": {
    "tags": []
   },
   "source": [
    "### Accumulation Rate"
   ]
  },
  {
   "cell_type": "code",
   "execution_count": null,
   "id": "6552ceed-2371-4d24-b395-c770fe48bf17",
   "metadata": {},
   "outputs": [],
   "source": [
    "a = firedrake.Constant(0)"
   ]
  },
  {
   "cell_type": "markdown",
   "id": "97516b5d-19e5-4380-9e69-4e4f20147235",
   "metadata": {},
   "source": [
    "### Model/Solver"
   ]
  },
  {
   "cell_type": "code",
   "execution_count": null,
   "id": "799cf910-50e8-46a7-8112-31ec1a01fe47",
   "metadata": {},
   "outputs": [],
   "source": [
    "model = icepack.models.HybridModel(friction=friction)\n",
    "opts = {\n",
    "    \"dirichlet_ids\": [1],\n",
    "    \"diagnostic_solver_type\": \"petsc\",\n",
    "    \"diagnostic_solver_parameters\": {\"snes_type\": \"newtontr\"},\n",
    "}\n",
    "solver = icepack.solvers.FlowSolver(model, **opts)"
   ]
  },
  {
   "cell_type": "code",
   "execution_count": null,
   "id": "64cc5dd9-1e6f-4087-a2af-6a9381f3b8ca",
   "metadata": {},
   "outputs": [],
   "source": [
    "h = h0.copy(deepcopy=True)\n",
    "u = solver.diagnostic_solve(\n",
    "    velocity=u0,\n",
    "    thickness=h0,\n",
    "    surface=s0,\n",
    "    fluidity=A,\n",
    "    friction=C\n",
    ")"
   ]
  },
  {
   "cell_type": "code",
   "execution_count": null,
   "id": "b0ff7281-62d9-45ca-ba64-70ca7a10ca8d",
   "metadata": {},
   "outputs": [],
   "source": [
    "import tqdm\n",
    "\n",
    "num_years = 400\n",
    "timesteps_per_year = 1\n",
    "\n",
    "δt = 1.0 / timesteps_per_year\n",
    "num_timesteps = num_years * timesteps_per_year\n",
    "\n",
    "us=[]\n",
    "hs=[]\n",
    "ss=[]\n",
    "\n",
    "for step in tqdm.trange(num_timesteps):\n",
    "    h = solver.prognostic_solve(\n",
    "        δt,\n",
    "        thickness=h,\n",
    "        velocity=u,\n",
    "        accumulation=a,\n",
    "        thickness_inflow=h0\n",
    "    )\n",
    "    s = icepack.compute_surface(thickness=h, bed=b)\n",
    "    \n",
    "    u = solver.diagnostic_solve(\n",
    "        velocity=u,\n",
    "        thickness=h,\n",
    "        surface=s,\n",
    "        fluidity=A,\n",
    "        friction=C\n",
    "    )\n",
    "    us.append(u)\n",
    "    hs.append(h)\n",
    "    ss.append(s)\n",
    "\n",
    "fig,ax = glacier_plot(u,h,s,b,V)"
   ]
  },
  {
   "cell_type": "markdown",
   "id": "433a2ae3-318f-479a-9a12-cbf966ab3dc6",
   "metadata": {
    "tags": []
   },
   "source": [
    "## Analysis"
   ]
  },
  {
   "cell_type": "code",
   "execution_count": null,
   "id": "8a170a9e-65f6-4d7c-ad42-3c945e6400a2",
   "metadata": {},
   "outputs": [],
   "source": [
    "import NDH_Tools as ndh"
   ]
  },
  {
   "cell_type": "code",
   "execution_count": null,
   "id": "91c35e3d-90af-4367-81db-a651343f0b15",
   "metadata": {},
   "outputs": [],
   "source": [
    "writer = ndh.generate_animation(5,'Slices')\n",
    "videoname1 = 'Evolution_speed.mp4'\n",
    "\n",
    "fig, axes = plt.subplots(figsize=(10,6))\n",
    "axes.set_xlabel('Distance Along Glacier (m)')\n",
    "axes.set_ylabel('Elevation (m)')\n",
    "axes.set_title('Speed Evolution (m/a)')\n",
    "with writer.saving(fig, videoname1, 100):\n",
    "    for i,u in enumerate(us[::5]):\n",
    "        (u_extract_grid, surf, bed, ice_b, x_opts, x_coords_grid, z_coords_grid) = glacier_z_coords(u, hs[i], ss[i], b, V,xsampling=200,zsampling=100)\n",
    "\n",
    "        cdata = axes.pcolor(x_coords_grid,z_coords_grid,u_extract_grid,vmin=0,vmax=1000)\n",
    "        cbar = plt.colorbar(cdata,label='Speed (m/a)')\n",
    "\n",
    "        l1=axes.plot(x_opts,surf,c='steelblue')\n",
    "        l2=axes.plot(x_opts,ice_b,c='steelblue')\n",
    "        l3=axes.plot(x_opts,bed,c='black')\n",
    "\n",
    "        writer.grab_frame()\n",
    "        \n",
    "        cbar.remove()\n",
    "        l1.pop(0).remove()\n",
    "        l2.pop(0).remove()\n",
    "        l3.pop(0).remove()\n",
    "        cdata.remove();"
   ]
  },
  {
   "cell_type": "code",
   "execution_count": null,
   "id": "427a0e94-d2da-469d-ab89-0afa1efc341b",
   "metadata": {},
   "outputs": [],
   "source": [
    "ndh.show_video('Evolution_speed.mp4')"
   ]
  },
  {
   "cell_type": "code",
   "execution_count": null,
   "id": "4d1ad714-839b-45e4-abaf-2c77a9db67ea",
   "metadata": {},
   "outputs": [],
   "source": []
  }
 ],
 "metadata": {
  "kernelspec": {
   "display_name": "firedrake",
   "language": "python",
   "name": "firedrake"
  },
  "language_info": {
   "codemirror_mode": {
    "name": "ipython",
    "version": 3
   },
   "file_extension": ".py",
   "mimetype": "text/x-python",
   "name": "python",
   "nbconvert_exporter": "python",
   "pygments_lexer": "ipython3",
   "version": "3.8.10"
  }
 },
 "nbformat": 4,
 "nbformat_minor": 5
}
